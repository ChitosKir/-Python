{
  "nbformat": 4,
  "nbformat_minor": 0,
  "metadata": {
    "colab": {
      "provenance": [],
      "collapsed_sections": [
        "VVIjnieSR3v1",
        "5Y1GOkrlSADZ",
        "crtak4QC-yuo",
        "yp69we3bMJGC"
      ],
      "authorship_tag": "ABX9TyMCRu015vFSsP1oullJYzp+",
      "include_colab_link": true
    },
    "kernelspec": {
      "name": "python3",
      "display_name": "Python 3"
    },
    "language_info": {
      "name": "python"
    }
  },
  "cells": [
    {
      "cell_type": "markdown",
      "metadata": {
        "id": "view-in-github",
        "colab_type": "text"
      },
      "source": [
        "<a href=\"https://colab.research.google.com/github/ChitosKir/-Python/blob/main/%D0%A7%D0%B5%D1%82%D0%B8%D0%BD_Task_3_Var_10.ipynb\" target=\"_parent\"><img src=\"https://colab.research.google.com/assets/colab-badge.svg\" alt=\"Open In Colab\"/></a>"
      ]
    },
    {
      "cell_type": "markdown",
      "source": [
        "##Массивы(списки)"
      ],
      "metadata": {
        "id": "VVIjnieSR3v1"
      }
    },
    {
      "cell_type": "markdown",
      "source": [
        "**№1. Сколько элементов массива превосходят по модулю заданное число А.**"
      ],
      "metadata": {
        "id": "GDBfZYvZRCSs"
      }
    },
    {
      "cell_type": "code",
      "source": [
        "array = list(map(int, input(\"Введите элементы массива:\").split()))\n",
        "A = int(input(\"A = \"))\n",
        "count = 0\n",
        "for elem in array:\n",
        "  if abs(elem) > abs(A):\n",
        "    count += 1\n",
        "print(count)"
      ],
      "metadata": {
        "colab": {
          "base_uri": "https://localhost:8080/"
        },
        "id": "HdA7MPKYRJDQ",
        "outputId": "6aa342f7-a5cc-4d12-ffb5-f4ef61d44b98"
      },
      "execution_count": null,
      "outputs": [
        {
          "output_type": "stream",
          "name": "stdout",
          "text": [
            "Введите элементы массива:1 2 -4 -5 0 11 -2 3\n",
            "A = 3\n",
            "3\n"
          ]
        }
      ]
    },
    {
      "cell_type": "markdown",
      "source": [
        "**№2. Дан целочисленный массив размера N. Вывести вначале все содержащиеся в данном массиве четные числа в порядке возрастания их индексов, а затем — все нечетные числа в порядке убывания их индексов.**"
      ],
      "metadata": {
        "id": "yvIpGZdKTwuD"
      }
    },
    {
      "cell_type": "code",
      "source": [
        "array = list(map(int, input(\"Введите элементы массива:\").split()))\n",
        "for elem in array:\n",
        "  if elem % 2 == 0:\n",
        "    print(elem, end = ' ')\n",
        "print()\n",
        "for i in range(len(array)-1,-1,-1):\n",
        "  if array[i] % 2 != 0:\n",
        "    print(array[i], end = ' ')"
      ],
      "metadata": {
        "colab": {
          "base_uri": "https://localhost:8080/"
        },
        "id": "9s2sBMjCT5e0",
        "outputId": "38654d52-fb5f-4909-a233-7a85ca1d4694"
      },
      "execution_count": null,
      "outputs": [
        {
          "output_type": "stream",
          "name": "stdout",
          "text": [
            "Введите элементы массива:1 2 4 8 9 0 3 5 10\n",
            "2 4 8 0 10 \n",
            "5 3 9 1 "
          ]
        }
      ]
    },
    {
      "cell_type": "markdown",
      "source": [
        "**№3. Дан массив размера N и целое число K (1 <= K < N). Осуществить сдвиг элементов массива влево на K позиций (при этом AN перейдет в AN–K, AN–1 — в AN–K–1, …, AK+1 — в A1, а исходное значение K первых элементов будет потеряно). Последние K элементов полученного массива положить равными 0**"
      ],
      "metadata": {
        "id": "nZY47x5WWGPl"
      }
    },
    {
      "cell_type": "code",
      "source": [
        "array = list(map(int, input(\"Введите элементы массива:\").split()))\n",
        "k = int(input(\"K = \"))\n",
        "for i in range(0, k):\n",
        "  for j in range(0, len(array)-i-1):\n",
        "    array[j] = array[j+1]\n",
        "  array[-(i+1)] = 0\n",
        "\n",
        "for elem in array:\n",
        "  print(elem, end = ' ')"
      ],
      "metadata": {
        "colab": {
          "base_uri": "https://localhost:8080/"
        },
        "id": "7l4mvHw1WJmO",
        "outputId": "9b6712ff-fafe-46a9-f5b3-cd9a710796f4"
      },
      "execution_count": null,
      "outputs": [
        {
          "output_type": "stream",
          "name": "stdout",
          "text": [
            "Введите элементы массива:1 2 3 4 5 6\n",
            "K = 3\n",
            "4 5 6 0 0 0 "
          ]
        }
      ]
    },
    {
      "cell_type": "markdown",
      "source": [
        "**№4.\tДан целочисленный двумерный массив, размерности n х m. Выяснить, в какой строке последовательность является возрастающей или убывающей**"
      ],
      "metadata": {
        "id": "Y7yiXLt6YRAe"
      }
    },
    {
      "cell_type": "code",
      "source": [
        "n = int(input(\"n = \"))\n",
        "m = int(input(\"m = \"))\n",
        "array = [[0]*m for i in range(n)]\n",
        "for i in range(0, n):\n",
        "  for j in range(0, m):\n",
        "    array[i][j] = int(input(f\"a[{i}][{j}]->\"))\n",
        "\n",
        "print(\"Array:\")\n",
        "for i in range(0, n):\n",
        "  for j in range(0, m):\n",
        "    print(array[i][j], end = ' ')\n",
        "  print()\n",
        "\n",
        "for i in range(0, n):\n",
        "  flag_ascending = True\n",
        "  flag_descending = True\n",
        "\n",
        "  for j in range(0, m-1):\n",
        "    if array[i][j] >= array[i][j+1]:\n",
        "      flag_ascending = False\n",
        "    if array[i][j] <= array[i][j+1]:\n",
        "      flag_descending = False\n",
        "\n",
        "  if flag_ascending:\n",
        "    print(f\"строка {i+1}: возрастающая\")\n",
        "  elif flag_descending:\n",
        "    print(f\"строка {i+1}: убывающая\")\n",
        "  else:\n",
        "    print(f\"строка {i+1}: не возрастающая и не убывающая\")\n",
        ""
      ],
      "metadata": {
        "colab": {
          "base_uri": "https://localhost:8080/"
        },
        "id": "zldV--ArYTAq",
        "outputId": "379dd228-cc37-483e-f559-2fd8f67416b0"
      },
      "execution_count": 12,
      "outputs": [
        {
          "output_type": "stream",
          "name": "stdout",
          "text": [
            "n = 3\n",
            "m = 3\n",
            "a[0][0]->1\n",
            "a[0][1]->2\n",
            "a[0][2]->3\n",
            "a[1][0]->9\n",
            "a[1][1]->8\n",
            "a[1][2]->7\n",
            "a[2][0]->6\n",
            "a[2][1]->2\n",
            "a[2][2]->9\n",
            "Array:\n",
            "1 2 3 \n",
            "9 8 7 \n",
            "6 2 9 \n",
            "строка 1: возрастающая\n",
            "строка 2: убывающая\n",
            "строка 3: не возрастающая и не убывающая\n"
          ]
        }
      ]
    },
    {
      "cell_type": "markdown",
      "source": [
        "##Словари"
      ],
      "metadata": {
        "id": "5Y1GOkrlSADZ"
      }
    },
    {
      "cell_type": "markdown",
      "source": [
        "**№1. Подсчет частоты слов: Напишите функцию, которая принимает строку и возвращает словарь, где ключи — это слова, а значения — их частота в строке**"
      ],
      "metadata": {
        "id": "XP__74yvSKeM"
      }
    },
    {
      "cell_type": "code",
      "source": [
        "def str_to_dict(string):\n",
        "  dict = {}\n",
        "  for key in string.split():\n",
        "    dict[key] = dict.get(key, 0) + 1\n",
        "  return dict\n",
        "\n",
        "string = \"apple orange banana apple banana apple\"\n",
        "dict = str_to_dict(string)\n",
        "print(dict)"
      ],
      "metadata": {
        "colab": {
          "base_uri": "https://localhost:8080/"
        },
        "id": "Br3nyxXTUzg7",
        "outputId": "1ed69f58-94ad-49d9-cbed-a30598b79531"
      },
      "execution_count": 16,
      "outputs": [
        {
          "output_type": "stream",
          "name": "stdout",
          "text": [
            "{'apple': 3, 'orange': 1, 'banana': 2}\n"
          ]
        }
      ]
    },
    {
      "cell_type": "markdown",
      "source": [
        "**№2. Инвертирование словаря: Напишите функцию, которая принимает словарь и возвращает новый словарь, где ключи и значения поменяны местами. Если значения не уникальны, объедините ключи в список**"
      ],
      "metadata": {
        "id": "LvwR80BgdxtP"
      }
    },
    {
      "cell_type": "code",
      "source": [
        "def invert_dict(dict):\n",
        "  new_dict = {}\n",
        "  for key, value in dict.items():\n",
        "    if value in new_dict:\n",
        "      if not isinstance(new_dict[value], list):\n",
        "        new_dict[value] = [new_dict[value]]\n",
        "      new_dict[value].append(key)\n",
        "    else:\n",
        "      new_dict[value] = key\n",
        "  return new_dict\n",
        "\n",
        "dict = {\n",
        "    \"apple\": 3,\n",
        "    \"orange\": 1,\n",
        "    \"banana\": 2,\n",
        "    \"peach\": 2\n",
        "}\n",
        "new_dict = invert_dict(dict)\n",
        "print(new_dict)"
      ],
      "metadata": {
        "colab": {
          "base_uri": "https://localhost:8080/"
        },
        "id": "GYpbQps4d1E5",
        "outputId": "ac6b250f-0ab8-4043-aaae-ad6e82b59637"
      },
      "execution_count": 23,
      "outputs": [
        {
          "output_type": "stream",
          "name": "stdout",
          "text": [
            "{3: 'apple', 1: 'orange', 2: ['banana', 'peach']}\n"
          ]
        }
      ]
    },
    {
      "cell_type": "markdown",
      "source": [
        "**№3. Слияние словарей: Напишите функцию, которая принимает два словаря и возвращает новый словарь, содержащий все ключи из обоих словарей. Если ключи совпадают, значения должны быть суммированы**"
      ],
      "metadata": {
        "id": "PI6LeK8GtWMc"
      }
    },
    {
      "cell_type": "code",
      "source": [
        "def merge_dict(dict1, dict2):\n",
        "  new_dict = {}\n",
        "  for key in dict1:\n",
        "    new_dict[key] = dict1.get(key)\n",
        "  for key, value in dict2.items():\n",
        "    if key in new_dict:\n",
        "      new_dict[key] += value\n",
        "    else:\n",
        "      new_dict[key] = value\n",
        "  return new_dict\n",
        "\n",
        "dict1 = {\n",
        "    \"apple\": 3,\n",
        "    \"orange\": 1,\n",
        "}\n",
        "dict2 = {\n",
        "    \"banana\": 2,\n",
        "    \"apple\": 4,\n",
        "    \"peach\": 5,\n",
        "    \"orange\": 1\n",
        "}\n",
        "new_dict = merge_dict(dict1, dict2)\n",
        "print(new_dict)"
      ],
      "metadata": {
        "colab": {
          "base_uri": "https://localhost:8080/"
        },
        "id": "LAPKdQsQtZbu",
        "outputId": "f49143ef-73d4-491c-9ba6-0e125cce552e"
      },
      "execution_count": 32,
      "outputs": [
        {
          "output_type": "stream",
          "name": "stdout",
          "text": [
            "{'apple': 7, 'orange': 2, 'banana': 2, 'peach': 5}\n"
          ]
        }
      ]
    },
    {
      "cell_type": "markdown",
      "source": [
        "**№4. Фильтрация по значению: Напишите функцию, которая принимает словарь и пороговое значение, и возвращает новый словарь, содержащий только те пары ключ-значение, где значение больше порогового**"
      ],
      "metadata": {
        "id": "QrMxjSFc10xo"
      }
    },
    {
      "cell_type": "code",
      "source": [
        "def filtering(dict, val):\n",
        "  new_dict = {}\n",
        "  for key, value in dict.items():\n",
        "    if value > val:\n",
        "      new_dict[key] = value\n",
        "  return new_dict\n",
        "\n",
        "dict = {\n",
        "    \"apple\": 5,\n",
        "    \"orange\": 1,\n",
        "    \"banana\": 10,\n",
        "    \"peach\": 2\n",
        "}\n",
        "val = 4\n",
        "new_dict = filtering(dict, val)\n",
        "print(new_dict)"
      ],
      "metadata": {
        "colab": {
          "base_uri": "https://localhost:8080/"
        },
        "id": "wk2kprw_2HfV",
        "outputId": "45e2447d-1491-4592-eece-2016c7da5a7e"
      },
      "execution_count": 33,
      "outputs": [
        {
          "output_type": "stream",
          "name": "stdout",
          "text": [
            "{'apple': 5, 'banana': 10}\n"
          ]
        }
      ]
    },
    {
      "cell_type": "markdown",
      "source": [
        "**№5. Группировка по длине ключей: Напишите функцию, которая группирует ключи словаря по их длине и возвращает словарь, где ключи — это длины, а значения — списки ключей соответствующей длины**"
      ],
      "metadata": {
        "id": "KBw_f0r_4di5"
      }
    },
    {
      "cell_type": "code",
      "source": [
        "def group_by_len(dict):\n",
        "  new_dict = {}\n",
        "  for key in dict.keys():\n",
        "    if len(key) not in new_dict:\n",
        "      new_dict[len(key)] = []\n",
        "    new_dict[len(key)].append(key)\n",
        "  return new_dict\n",
        "\n",
        "data = {\n",
        "    \"a\": 1,\n",
        "    \"bb\": 2,\n",
        "    \"ccc\": 3,\n",
        "    \"dd\": 4,\n",
        "    \"ee\": 5,\n",
        "    \"ffff\": 6\n",
        "}\n",
        "new_dict = group_by_len(data)\n",
        "print(new_dict)"
      ],
      "metadata": {
        "colab": {
          "base_uri": "https://localhost:8080/"
        },
        "id": "RzhhjHMk4g7P",
        "outputId": "7daf3457-8f74-4a46-a66d-680694911cc1"
      },
      "execution_count": 36,
      "outputs": [
        {
          "output_type": "stream",
          "name": "stdout",
          "text": [
            "{1: ['a'], 2: ['bb', 'dd', 'ee'], 3: ['ccc'], 4: ['ffff']}\n"
          ]
        }
      ]
    },
    {
      "cell_type": "markdown",
      "source": [
        "№6. Удаление дубликатов: Напишите функцию, которая удаляет дубликаты значений из словаря, оставляя только первое вхождение"
      ],
      "metadata": {
        "id": "tIX80a29-Gaw"
      }
    },
    {
      "cell_type": "code",
      "source": [
        "def del_duplicates(dict):\n",
        "  new_dict = {}\n",
        "  for key in dict:\n",
        "    if (dict[key] not in new_dict.values()):\n",
        "      new_dict[key] = dict[key]\n",
        "  return new_dict\n",
        "\n",
        "data = {\n",
        "    \"a\": 1,\n",
        "    \"b\": 1,\n",
        "    \"ccc\": 3,\n",
        "    \"dd\": 4,\n",
        "    \"ee\": 6,\n",
        "    \"ffff\": 6\n",
        "}\n",
        "new_dict = del_duplicates(data)\n",
        "print(new_dict)"
      ],
      "metadata": {
        "colab": {
          "base_uri": "https://localhost:8080/"
        },
        "id": "6_8t901W-J6f",
        "outputId": "85305d53-8619-480a-c4fe-df3a52c37a24"
      },
      "execution_count": 62,
      "outputs": [
        {
          "output_type": "stream",
          "name": "stdout",
          "text": [
            "{'a': 1, 'ccc': 3, 'dd': 4, 'ee': 6}\n"
          ]
        }
      ]
    },
    {
      "cell_type": "markdown",
      "source": [
        "**№7. Группировка по типам значений: Напишите функцию, которая группирует ключи словаря по типам их значений (например, int, str, list).**"
      ],
      "metadata": {
        "id": "BPZrkNgVZy06"
      }
    },
    {
      "cell_type": "code",
      "source": [
        "def group_by_type(dict):\n",
        "  type_dict = {}\n",
        "  for key, value in dict.items():\n",
        "    if type(value).__name__ not in type_dict:\n",
        "      type_dict[type(value).__name__] = []\n",
        "    type_dict[type(value).__name__].append(key)\n",
        "  return type_dict\n",
        "\n",
        "data = {\n",
        "    'a': 1,\n",
        "    'b': 'hello',\n",
        "    'c': [1, 2, 3],\n",
        "    'd': 2,\n",
        "    'e': 'world',\n",
        "    'f': {'x': 1},\n",
        "    'g': [4, 5]\n",
        "}\n",
        "types = group_by_type(data)\n",
        "print(types)"
      ],
      "metadata": {
        "colab": {
          "base_uri": "https://localhost:8080/"
        },
        "id": "m_jqKi8BZ2Oj",
        "outputId": "4c3d1111-131b-4d45-d795-d9b295d007c5"
      },
      "execution_count": 4,
      "outputs": [
        {
          "output_type": "stream",
          "name": "stdout",
          "text": [
            "{'int': ['a', 'd'], 'str': ['b', 'e'], 'list': ['c', 'g'], 'dict': ['f']}\n"
          ]
        }
      ]
    },
    {
      "cell_type": "markdown",
      "source": [
        "**№8. Среднее значение: Напишите функцию, которая вычисляет среднее значение всех числовых значений в словаре**"
      ],
      "metadata": {
        "id": "gRMfNZvYYZWV"
      }
    },
    {
      "cell_type": "code",
      "source": [
        "def mean_dict(dict):\n",
        "  S, k = 0, 0\n",
        "  for value in dict.values():\n",
        "    S += value\n",
        "    k += 1\n",
        "  return S / k\n",
        "\n",
        "data = {\n",
        "    \"a\": 1,\n",
        "    \"b\": 1,\n",
        "    \"c\": 3,\n",
        "    \"d\": 4,\n",
        "    \"e\": 6,\n",
        "    \"f\": 6\n",
        "}\n",
        "print(\"Среднее значение = \", mean_dict(data))"
      ],
      "metadata": {
        "colab": {
          "base_uri": "https://localhost:8080/"
        },
        "id": "Ucz7ekxdYdTS",
        "outputId": "c35398b4-32cb-461c-b434-4a0db0fb4aec"
      },
      "execution_count": 1,
      "outputs": [
        {
          "output_type": "stream",
          "name": "stdout",
          "text": [
            "Среднее значение =  3.5\n"
          ]
        }
      ]
    },
    {
      "cell_type": "markdown",
      "source": [
        "**№9. Ключи с палиндромами: Напишите функцию, которая возвращает список ключей, связанных со значениями-палиндромами**"
      ],
      "metadata": {
        "id": "FRggmqFmdAoU"
      }
    },
    {
      "cell_type": "code",
      "source": [
        "def is_palindrome(value):\n",
        "  flag = True\n",
        "  for i in range(0, len(value)//2):\n",
        "    if value[i] != value[-(i+1)]:\n",
        "      flag = False\n",
        "  return flag\n",
        "\n",
        "def palindromes_in_dict(dict):\n",
        "  list_pal = []\n",
        "  for key in dict:\n",
        "    if is_palindrome(dict[key]):\n",
        "      list_pal.append(key)\n",
        "  return list_pal\n",
        "\n",
        "data = {\n",
        "    'a': 'racecar',\n",
        "    'b': 'hello',\n",
        "    'c': 'madam',\n",
        "    'd': 'world',\n",
        "    'e': 'level',\n",
        "    'f': 'python'\n",
        "}\n",
        "list_pal = palindromes_in_dict(data)\n",
        "print(list_pal)"
      ],
      "metadata": {
        "colab": {
          "base_uri": "https://localhost:8080/"
        },
        "id": "mUbDXy5pdD9r",
        "outputId": "3ed56185-4794-4748-b96f-b188b0ff7c5d"
      },
      "execution_count": 6,
      "outputs": [
        {
          "output_type": "stream",
          "name": "stdout",
          "text": [
            "['a', 'c', 'e']\n"
          ]
        }
      ]
    },
    {
      "cell_type": "markdown",
      "source": [
        "**№10. Глубокая копия словаря: Напишите функцию, которая создает глубокую копию словаря, включая все вложенные структуры данных.**"
      ],
      "metadata": {
        "id": "T51Uh15vgp2C"
      }
    },
    {
      "cell_type": "code",
      "source": [
        "def my_deepcopy(obj):\n",
        "  if isinstance(obj, dict):\n",
        "    return {key : my_deepcopy(value) for key, value in obj.items()}\n",
        "  elif isinstance(obj, list):\n",
        "    return [my_deepcopy(value) for value in obj]\n",
        "  elif isinstance(obj, set):\n",
        "    return {my_deepcopy(value) for value in obj}\n",
        "  elif isinstance(obj, tuple):\n",
        "    return tuple(my_deepcopy(value for value in obj))\n",
        "  else:\n",
        "    return obj\n",
        "\n",
        "original = {\n",
        "    'a': 1,\n",
        "    'b': [2, 3, {'x': 10}],\n",
        "    'c': {'y': 4},\n",
        "    'd': (5, 6)\n",
        "}\n",
        "copy = my_deepcopy(original)\n",
        "print(\"original: \", original)\n",
        "print(\"copy:     \", copy)\n",
        "copy['b'][0] = 123\n",
        "copy['c']['y'] = 0\n",
        "print(\"После изменений:\")\n",
        "print(\"original: \", original)\n",
        "print(\"copy:     \", copy)"
      ],
      "metadata": {
        "colab": {
          "base_uri": "https://localhost:8080/"
        },
        "id": "mrtl2KW3gtYp",
        "outputId": "942f8daf-7fe0-4047-d0b4-f4f7bc3770c7"
      },
      "execution_count": 14,
      "outputs": [
        {
          "output_type": "stream",
          "name": "stdout",
          "text": [
            "original:  {'a': 1, 'b': [2, 3, {'x': 10}], 'c': {'y': 4}, 'd': (5, 6)}\n",
            "copy:      {'a': 1, 'b': [2, 3, {'x': 10}], 'c': {'y': 4}, 'd': (5, 6)}\n",
            "После изменений:\n",
            "original:  {'a': 1, 'b': [2, 3, {'x': 10}], 'c': {'y': 4}, 'd': (5, 6)}\n",
            "copy:      {'a': 1, 'b': [123, 3, {'x': 10}], 'c': {'y': 0}, 'd': (5, 6)}\n"
          ]
        }
      ]
    },
    {
      "cell_type": "markdown",
      "source": [
        "## Множества"
      ],
      "metadata": {
        "id": "crtak4QC-yuo"
      }
    },
    {
      "cell_type": "markdown",
      "source": [
        "**№1. Создание множества из списка: Напишите функцию, которая принимает список и возвращает множество, содержащее уникальные элементы списка**"
      ],
      "metadata": {
        "id": "V1A-prdV-7nS"
      }
    },
    {
      "cell_type": "code",
      "source": [
        "def list_to_set(list1):\n",
        "  return set(list1)\n",
        "\n",
        "list1 = [1, 2, 2, 3, 4, 4, 4]\n",
        "set1 = list_to_set(list1)\n",
        "print(set1)"
      ],
      "metadata": {
        "colab": {
          "base_uri": "https://localhost:8080/"
        },
        "id": "h6AjbEt6-2BT",
        "outputId": "c400e634-68da-48e8-e005-3ca91c627d7d"
      },
      "execution_count": 26,
      "outputs": [
        {
          "output_type": "stream",
          "name": "stdout",
          "text": [
            "{1, 2, 3, 4}\n"
          ]
        }
      ]
    },
    {
      "cell_type": "markdown",
      "source": [
        "**№2. Пересечение множеств: Напишите функцию, которая принимает два множества и возвращает их пересечение**"
      ],
      "metadata": {
        "id": "VFMNZS7k_3rx"
      }
    },
    {
      "cell_type": "code",
      "source": [
        "def intersect_sets(set1, set2):\n",
        "  return set1.intersection(set2)\n",
        "\n",
        "set1 = {1, 2, 3}\n",
        "set2 = {2, 3, 4}\n",
        "set_inter = intersect_sets(set1, set2)\n",
        "print(set_inter)"
      ],
      "metadata": {
        "colab": {
          "base_uri": "https://localhost:8080/"
        },
        "id": "-Y4ln1Xj_62w",
        "outputId": "9e846025-112b-41fb-b63a-8dd05011e83e"
      },
      "execution_count": 16,
      "outputs": [
        {
          "output_type": "stream",
          "name": "stdout",
          "text": [
            "{2, 3}\n"
          ]
        }
      ]
    },
    {
      "cell_type": "markdown",
      "source": [
        "**№3. Симметрическая разность: Напишите функцию, которая принимает два множества и возвращает их симметрическую разность**"
      ],
      "metadata": {
        "id": "KMmAlkCiA7AK"
      }
    },
    {
      "cell_type": "code",
      "source": [
        "def symmet_diff(set1, set2):\n",
        "  return set1.symmetric_difference(set2)\n",
        "\n",
        "set1 = {1, 2, 3}\n",
        "set2 = {3, 4, 5}\n",
        "set3 = symmet_diff(set1, set2)\n",
        "print(set3)"
      ],
      "metadata": {
        "colab": {
          "base_uri": "https://localhost:8080/"
        },
        "id": "1xEkirVtA9sJ",
        "outputId": "e06d7530-7702-4494-8f38-ec40a530b2e3"
      },
      "execution_count": 17,
      "outputs": [
        {
          "output_type": "stream",
          "name": "stdout",
          "text": [
            "{1, 2, 4, 5}\n"
          ]
        }
      ]
    },
    {
      "cell_type": "markdown",
      "source": [
        "**№4. Добавление элементов: Напишите функцию, которая добавляет все элементы из списка в множество**"
      ],
      "metadata": {
        "id": "kJ_qOu8DCefh"
      }
    },
    {
      "cell_type": "code",
      "source": [
        "def add_list_to_set(list1, set1):\n",
        "  for elem in list1:\n",
        "    set1.add(elem)\n",
        "  return set1\n",
        "\n",
        "set1 = {1, 2}\n",
        "list1 = [2, 3, 4]\n",
        "new_set = add_list_to_set(list1, set1)\n",
        "print(new_set)"
      ],
      "metadata": {
        "colab": {
          "base_uri": "https://localhost:8080/"
        },
        "id": "DrZQBNqXCguX",
        "outputId": "19e9b7cd-4344-4f8c-8d7c-69688fff297d"
      },
      "execution_count": 18,
      "outputs": [
        {
          "output_type": "stream",
          "name": "stdout",
          "text": [
            "{1, 2, 3, 4}\n"
          ]
        }
      ]
    },
    {
      "cell_type": "markdown",
      "source": [
        "**№5. Удаление элементов: Напишите функцию, которая удаляет из множества все элементы, присутствующие в списке.**"
      ],
      "metadata": {
        "id": "iItLy2mpD4-M"
      }
    },
    {
      "cell_type": "code",
      "source": [
        "def delete_by_list(list1, set1):\n",
        "  for elem in list1:\n",
        "    set1.discard(elem)\n",
        "  return set1\n",
        "\n",
        "set1 = {1, 2, 3, 4, 5}\n",
        "list1 = [2, 4, 0]\n",
        "new_set = delete_by_list(list1, set1)\n",
        "print(new_set)"
      ],
      "metadata": {
        "colab": {
          "base_uri": "https://localhost:8080/"
        },
        "id": "JG_Ca9sOEAtW",
        "outputId": "8695cb8e-1c53-48ac-c523-1f8c7597cd00"
      },
      "execution_count": 19,
      "outputs": [
        {
          "output_type": "stream",
          "name": "stdout",
          "text": [
            "{1, 3, 5}\n"
          ]
        }
      ]
    },
    {
      "cell_type": "markdown",
      "source": [
        "**№6. Уникальные элементы: Напишите функцию, которая находит элементы, которые есть только в одном из двух списков.**"
      ],
      "metadata": {
        "id": "IyYmslNPE3K-"
      }
    },
    {
      "cell_type": "code",
      "source": [
        "def unique_elems(list1, list2):\n",
        "  set1 = set(list1)\n",
        "  set2 = set(list2)\n",
        "  set3 = set1.symmetric_difference(set2)\n",
        "  return list(set3)\n",
        "\n",
        "list1 = [1, 2, 3]\n",
        "list2 = [3, 4, 5]\n",
        "new_list = unique_elems(list1, list2)\n",
        "print(new_list)"
      ],
      "metadata": {
        "colab": {
          "base_uri": "https://localhost:8080/"
        },
        "id": "goa-l6qHE_Dq",
        "outputId": "15bb38c8-4d98-4523-da2c-9b02be1aed7d"
      },
      "execution_count": 25,
      "outputs": [
        {
          "output_type": "stream",
          "name": "stdout",
          "text": [
            "[1, 2, 4, 5]\n"
          ]
        }
      ]
    },
    {
      "cell_type": "markdown",
      "source": [
        "**№7. Проверка на пустоту: Напишите функцию, которая проверяет, является ли множество пустым**"
      ],
      "metadata": {
        "id": "mHa5EgSRH1q4"
      }
    },
    {
      "cell_type": "code",
      "source": [
        "def is_empty(set1):\n",
        "  return len(set1) == 0\n",
        "\n",
        "set1 = set()\n",
        "set2 = {1}\n",
        "print(is_empty(set1))\n",
        "print(is_empty(set2))"
      ],
      "metadata": {
        "colab": {
          "base_uri": "https://localhost:8080/"
        },
        "id": "j8Pt_4LBH_f7",
        "outputId": "a388df88-8a6d-43de-cb1a-45ec942d25fc"
      },
      "execution_count": 28,
      "outputs": [
        {
          "output_type": "stream",
          "name": "stdout",
          "text": [
            "True\n",
            "False\n"
          ]
        }
      ]
    },
    {
      "cell_type": "markdown",
      "source": [
        "**№8. Сортировка множества: Напишите функцию, которая преобразует множество в отсортированный список.**"
      ],
      "metadata": {
        "id": "ybD_VF6aIvbO"
      }
    },
    {
      "cell_type": "code",
      "source": [
        "def set_to_sorted_list(set1):\n",
        "  return list(sorted(set1))\n",
        "\n",
        "set1 = {4, 1, 3, 2}\n",
        "list1 = set_to_sorted_list(set1)\n",
        "print(list1)"
      ],
      "metadata": {
        "colab": {
          "base_uri": "https://localhost:8080/"
        },
        "id": "bOFEBL1lI1lM",
        "outputId": "90535b63-3cb5-489d-83f7-34fbeb0b41ae"
      },
      "execution_count": 29,
      "outputs": [
        {
          "output_type": "stream",
          "name": "stdout",
          "text": [
            "[1, 2, 3, 4]\n"
          ]
        }
      ]
    },
    {
      "cell_type": "markdown",
      "source": [
        "**№9. Разбиение множества: Напишите функцию, которая разбивает множество на два: одно с четными числами, другое с нечетными.**"
      ],
      "metadata": {
        "id": "upPYO6HvJwMg"
      }
    },
    {
      "cell_type": "code",
      "source": [
        "def split_set(set1):\n",
        "  set_even = set()\n",
        "  set_odd = set()\n",
        "  for elem in set1:\n",
        "    if elem % 2 == 0:\n",
        "      set_even.add(elem)\n",
        "    else:\n",
        "      set_odd.add(elem)\n",
        "  return set_even, set_odd\n",
        "\n",
        "set1 = {1, 2, 3, 4, 5, 6}\n",
        "set_even, set_odd = split_set(set1)\n",
        "print(\"Четные: \", set_even)\n",
        "print(\"НЕчетные\", set_odd)"
      ],
      "metadata": {
        "colab": {
          "base_uri": "https://localhost:8080/"
        },
        "id": "o-5jDSHQJyup",
        "outputId": "a309e59e-8d7d-4dac-849d-0781f9739141"
      },
      "execution_count": 30,
      "outputs": [
        {
          "output_type": "stream",
          "name": "stdout",
          "text": [
            "Четные:  {2, 4, 6}\n",
            "НЕчетные {1, 3, 5}\n"
          ]
        }
      ]
    },
    {
      "cell_type": "markdown",
      "source": [
        "**№10. Проверка на взаимоисключающие множества: Напишите функцию, которая проверяет, являются ли два множества взаимоисключающими (т.е. не имеют общих элементов)**"
      ],
      "metadata": {
        "id": "j7NVqIzHK3BL"
      }
    },
    {
      "cell_type": "code",
      "source": [
        "def is_mutually_exclusive(set1, set2):\n",
        "  return len(set1.intersection(set2)) == 0\n",
        "\n",
        "set1 = {1, 2}\n",
        "set2 = {3, 4}\n",
        "print(is_mutually_exclusive(set1, set2))\n",
        "set2 = {2, 3}\n",
        "print(is_mutually_exclusive(set1, set2))"
      ],
      "metadata": {
        "colab": {
          "base_uri": "https://localhost:8080/"
        },
        "id": "SHmBgxdFK5lM",
        "outputId": "ce2743cc-6ac1-458e-91ce-9315fc06cf41"
      },
      "execution_count": 32,
      "outputs": [
        {
          "output_type": "stream",
          "name": "stdout",
          "text": [
            "True\n",
            "False\n"
          ]
        }
      ]
    },
    {
      "cell_type": "markdown",
      "source": [
        "##Кортежи"
      ],
      "metadata": {
        "id": "yp69we3bMJGC"
      }
    },
    {
      "cell_type": "markdown",
      "source": [
        "**№1. Создание кортежа из списка: Напишите функцию, которая принимает список и возвращает кортеж, содержащий те же элементы.**"
      ],
      "metadata": {
        "id": "CjSfkyUvOIbX"
      }
    },
    {
      "cell_type": "code",
      "source": [
        "def list_to_tuple(lst):\n",
        "  return tuple(lst)\n",
        "\n",
        "lst = [1, 2, 3]\n",
        "tpl = list_to_tuple(lst)\n",
        "print(tpl)"
      ],
      "metadata": {
        "colab": {
          "base_uri": "https://localhost:8080/"
        },
        "id": "2d1U0LihO9FS",
        "outputId": "1720d8da-b36e-4380-839c-69f8c1e654b8"
      },
      "execution_count": 33,
      "outputs": [
        {
          "output_type": "stream",
          "name": "stdout",
          "text": [
            "(1, 2, 3)\n"
          ]
        }
      ]
    },
    {
      "cell_type": "markdown",
      "source": [
        "**№2. Объединение кортежей: Напишите функцию, которая принимает два кортежа и возвращает их объединение**"
      ],
      "metadata": {
        "id": "50lNrxaFOK8c"
      }
    },
    {
      "cell_type": "code",
      "source": [
        "def union_tuple(tpl1, tpl2):\n",
        "  return tpl1 + tpl2\n",
        "\n",
        "t1 = (1, 2, 3)\n",
        "t2 = (3, 4)\n",
        "t3 = union_tuple(t1, t2)\n",
        "print(t3)"
      ],
      "metadata": {
        "colab": {
          "base_uri": "https://localhost:8080/"
        },
        "id": "Udkr7B03PXgC",
        "outputId": "bf1e9270-7343-4626-f9d1-6f5ca62eb4d0"
      },
      "execution_count": 35,
      "outputs": [
        {
          "output_type": "stream",
          "name": "stdout",
          "text": [
            "(1, 2, 3, 3, 4)\n"
          ]
        }
      ]
    },
    {
      "cell_type": "markdown",
      "source": [
        "**№3. Индекс первого вхождения: Напишите функцию, которая находит индекс первого вхождения заданного элемента в кортеже.**"
      ],
      "metadata": {
        "id": "RxtHsxTkOVs2"
      }
    },
    {
      "cell_type": "code",
      "source": [
        "def index_in_tuple(tpl, value):\n",
        "  for i in range (0, len(tpl)):\n",
        "    if tpl[i] == value:\n",
        "      return i\n",
        "  return -1\n",
        "\n",
        "t = (1, 2, 3, 2, 4)\n",
        "elem = 3\n",
        "print(index_in_tuple(t, elem))"
      ],
      "metadata": {
        "colab": {
          "base_uri": "https://localhost:8080/"
        },
        "id": "QatI2Jj8QdCZ",
        "outputId": "d876d7c2-4139-4c02-c73f-aafd1e8738f4"
      },
      "execution_count": 38,
      "outputs": [
        {
          "output_type": "stream",
          "name": "stdout",
          "text": [
            "2\n"
          ]
        }
      ]
    },
    {
      "cell_type": "markdown",
      "source": [
        "**№4. Количество вхождений элемента: Напишите функцию, которая подсчитывает, сколько раз заданный элемент встречается в кортеже.**"
      ],
      "metadata": {
        "id": "9PgsWvNDOZ6c"
      }
    },
    {
      "cell_type": "code",
      "source": [
        "def count_occurrences(tpl, elem):\n",
        "  count = 0\n",
        "  for i in range (0, len(tpl)):\n",
        "    if tpl[i] == elem:\n",
        "      count += 1\n",
        "  return count\n",
        "\n",
        "t = (1, 2, 3, 2, 4, 2)\n",
        "elem = 2\n",
        "print(count_occurrences(t, elem))"
      ],
      "metadata": {
        "colab": {
          "base_uri": "https://localhost:8080/"
        },
        "id": "2WJyQ2sWRIKi",
        "outputId": "0a1014e3-7f3a-4928-c092-faabf58ebddd"
      },
      "execution_count": 40,
      "outputs": [
        {
          "output_type": "stream",
          "name": "stdout",
          "text": [
            "3\n"
          ]
        }
      ]
    },
    {
      "cell_type": "markdown",
      "source": [
        "**№5. Разбиение кортежа: Напишите функцию, которая разбивает кортеж на две части: первую половину и вторую половину.**"
      ],
      "metadata": {
        "id": "iDoYn_Z4OeeE"
      }
    },
    {
      "cell_type": "code",
      "source": [
        "def split_tuple(tpl):\n",
        "  tpl1 = (tpl[0:len(tpl)//2])\n",
        "  tpl2 = (tpl[len(tpl)//2:len(tpl)])\n",
        "  return tpl1, tpl2\n",
        "\n",
        "t = (1, 2, 3, 4, 5, 6, 7)\n",
        "t1, t2 = split_tuple(t)\n",
        "print(t1)\n",
        "print(t2)"
      ],
      "metadata": {
        "colab": {
          "base_uri": "https://localhost:8080/"
        },
        "id": "hiYjvWjGSDeG",
        "outputId": "0bdfb33c-3259-479f-b8b9-dfb2c12a40af"
      },
      "execution_count": 43,
      "outputs": [
        {
          "output_type": "stream",
          "name": "stdout",
          "text": [
            "(1, 2, 3)\n",
            "(4, 5, 6, 7)\n"
          ]
        }
      ]
    },
    {
      "cell_type": "markdown",
      "source": [
        "**№6. Обратный порядок: Напишите функцию, которая возвращает кортеж с элементами в обратном порядке.**"
      ],
      "metadata": {
        "id": "8Op4qhdROjV6"
      }
    },
    {
      "cell_type": "code",
      "source": [
        "def reverse_tuple(tpl):\n",
        "  return tuple(reversed(tpl))\n",
        "\n",
        "t = (1, 2, 3, 4, 5, 6, 7)\n",
        "t1 = reverse_tuple(t)\n",
        "print(t1)"
      ],
      "metadata": {
        "colab": {
          "base_uri": "https://localhost:8080/"
        },
        "id": "8gwun4MtTOH6",
        "outputId": "0863b12f-3525-44cf-e3e4-ad664c1aced5"
      },
      "execution_count": 46,
      "outputs": [
        {
          "output_type": "stream",
          "name": "stdout",
          "text": [
            "(7, 6, 5, 4, 3, 2, 1)\n"
          ]
        }
      ]
    },
    {
      "cell_type": "markdown",
      "source": [
        "**№7. Фильтрация по условию: Напишите функцию, которая фильтрует кортеж, оставляя только те элементы, которые удовлетворяют заданному условию (например, больше 10).**"
      ],
      "metadata": {
        "id": "p05KDB6LOoDu"
      }
    },
    {
      "cell_type": "code",
      "source": [
        "def filter_tuple(tpl):\n",
        "  lst = []\n",
        "  for elem in tpl:\n",
        "    if elem > 10:\n",
        "      lst.append(elem)\n",
        "  return tuple(lst)\n",
        "\n",
        "t = (5, 15, 8, 22)\n",
        "t1 = filter_tuple(t)\n",
        "print(t1)"
      ],
      "metadata": {
        "colab": {
          "base_uri": "https://localhost:8080/"
        },
        "id": "MxwBbvt7TqmN",
        "outputId": "ab1bf598-05b7-4e08-dd22-910d3a42d2a0"
      },
      "execution_count": 47,
      "outputs": [
        {
          "output_type": "stream",
          "name": "stdout",
          "text": [
            "(15, 22)\n"
          ]
        }
      ]
    },
    {
      "cell_type": "markdown",
      "source": [
        "**№8. Сумма элементов: Напишите функцию, которая вычисляет сумму всех числовых элементов в кортеже**"
      ],
      "metadata": {
        "id": "2LpQRgeBOtB4"
      }
    },
    {
      "cell_type": "code",
      "source": [
        "def sum_of_tuple_elems(tpl):\n",
        "  S = 0\n",
        "  for elem in tpl:\n",
        "      S += elem\n",
        "  return S\n",
        "\n",
        "t = (1, 2, 3, 2, 4, 2)\n",
        "print(sum_of_tuple_elems(t))"
      ],
      "metadata": {
        "colab": {
          "base_uri": "https://localhost:8080/"
        },
        "id": "qlrekMFPUA5u",
        "outputId": "981625b7-7578-4d31-87cb-f11f56f26180"
      },
      "execution_count": 49,
      "outputs": [
        {
          "output_type": "stream",
          "name": "stdout",
          "text": [
            "14\n"
          ]
        }
      ]
    },
    {
      "cell_type": "markdown",
      "source": [
        "**№9. Кортеж из строки: Напишите функцию, которая преобразует строку в кортеж символов.**"
      ],
      "metadata": {
        "id": "NUxi8IMJOxrp"
      }
    },
    {
      "cell_type": "code",
      "source": [
        "def str_to_tuple(s):\n",
        "  return tuple(s)\n",
        "\n",
        "s = \"hello\"\n",
        "tpl = str_to_tuple(s)\n",
        "print(tpl)"
      ],
      "metadata": {
        "colab": {
          "base_uri": "https://localhost:8080/"
        },
        "id": "EaXNWTcsUpO0",
        "outputId": "5b7f08a2-c01f-41ad-fe5d-a5ad7f204217"
      },
      "execution_count": 53,
      "outputs": [
        {
          "output_type": "stream",
          "name": "stdout",
          "text": [
            "('h', 'e', 'l', 'l', 'o')\n"
          ]
        }
      ]
    },
    {
      "cell_type": "markdown",
      "source": [
        "**№10. Кортеж с палиндромами: Напишите функцию, которая создает кортеж, содержащий только строки-палиндромы из заданного списка строк.**"
      ],
      "metadata": {
        "id": "5wknDB4BO2de"
      }
    },
    {
      "cell_type": "code",
      "source": [
        "def is_palindrome(value):\n",
        "  flag = True\n",
        "  for i in range(0, len(value)//2):\n",
        "    if value[i] != value[-(i+1)]:\n",
        "      flag = False\n",
        "  return flag\n",
        "\n",
        "def tuple_palindromes(lst):\n",
        "  lst_pal = []\n",
        "  for elem in lst:\n",
        "    if is_palindrome(elem):\n",
        "      lst_pal.append(elem)\n",
        "  return tuple(lst_pal)\n",
        "\n",
        "words = [\"madam\", \"hello\", \"noon\", \"world\"]\n",
        "print(tuple_palindromes(words))"
      ],
      "metadata": {
        "colab": {
          "base_uri": "https://localhost:8080/"
        },
        "id": "AsOvbFSqWJtt",
        "outputId": "4352fe47-a95a-4400-a034-31d86546336b"
      },
      "execution_count": 54,
      "outputs": [
        {
          "output_type": "stream",
          "name": "stdout",
          "text": [
            "('madam', 'noon')\n"
          ]
        }
      ]
    }
  ]
}