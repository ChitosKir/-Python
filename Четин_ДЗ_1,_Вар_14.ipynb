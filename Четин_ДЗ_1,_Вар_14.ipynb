{
  "nbformat": 4,
  "nbformat_minor": 0,
  "metadata": {
    "colab": {
      "provenance": [],
      "collapsed_sections": [
        "FbdNSPurPWtU",
        "32WCCkhpbJZY",
        "HDlSBtSioiuM",
        "4QhsW_c4_jRo"
      ]
    },
    "kernelspec": {
      "name": "python3",
      "display_name": "Python 3"
    },
    "language_info": {
      "name": "python"
    }
  },
  "cells": [
    {
      "cell_type": "markdown",
      "source": [
        "## **Тема 2**"
      ],
      "metadata": {
        "id": "FbdNSPurPWtU"
      }
    },
    {
      "cell_type": "markdown",
      "source": [
        "**№1. Вычислить значение выражения**"
      ],
      "metadata": {
        "id": "QN_I6ZwjP3kO"
      }
    },
    {
      "cell_type": "code",
      "source": [
        "x = float(input(\"Введите x = \"))\n",
        "y = (x**2 - 4*x + 4) / ((x + 5)**2 - 49)\n",
        "print(\"y = \", y)"
      ],
      "metadata": {
        "colab": {
          "base_uri": "https://localhost:8080/"
        },
        "id": "p30kjfjgOAHr",
        "outputId": "27e7e7a1-4d90-478d-805d-6e6fe9eb4e5b"
      },
      "execution_count": null,
      "outputs": [
        {
          "output_type": "stream",
          "name": "stdout",
          "text": [
            "Введите x = 4\n",
            "y =  0.125\n"
          ]
        }
      ]
    },
    {
      "cell_type": "markdown",
      "source": [
        "**№2. Вычислить значение выражения**"
      ],
      "metadata": {
        "id": "DDTlWareQFzQ"
      }
    },
    {
      "cell_type": "code",
      "source": [
        "from math import *\n",
        "x = float(input(\"Введите x = \"))\n",
        "y = float(input(\"Введите y = \"))\n",
        "w = (sin(x) + cos(y)) / (cos(x) - sin(y)) * tan(x * y)\n",
        "print(\"w = \", w)"
      ],
      "metadata": {
        "colab": {
          "base_uri": "https://localhost:8080/"
        },
        "id": "iPKlJFvvQD_d",
        "outputId": "7bfebdd2-a30c-426e-fe0b-51c8ac1a624d"
      },
      "execution_count": null,
      "outputs": [
        {
          "output_type": "stream",
          "name": "stdout",
          "text": [
            "Введите x = 0.5\n",
            "Введите y = 1\n",
            "w =  15.426627840870863\n"
          ]
        }
      ]
    },
    {
      "cell_type": "markdown",
      "source": [
        "**№3. Вычислить периметр и площадь прямоугольного треугольника по данным длинам двух катетов a и b**"
      ],
      "metadata": {
        "id": "kqaSE1kURIjG"
      }
    },
    {
      "cell_type": "code",
      "source": [
        "a = float(input(\"Катет a = \"))\n",
        "b = float(input(\"Катет b = \"))\n",
        "P = a + b + (a**2 + b**2)**0.5\n",
        "S = a * b\n",
        "print(\"Периметр = \", P)\n",
        "print(\"Площадь = \", S)"
      ],
      "metadata": {
        "colab": {
          "base_uri": "https://localhost:8080/"
        },
        "id": "CweOgvYpRU52",
        "outputId": "2276b2b5-6bf8-4a7a-e718-98703535c5f5"
      },
      "execution_count": null,
      "outputs": [
        {
          "output_type": "stream",
          "name": "stdout",
          "text": [
            "Катет a = 5\n",
            "Катет b = 12\n",
            "Периметр =  30.0\n",
            "Площадь =  60.0\n"
          ]
        }
      ]
    },
    {
      "cell_type": "markdown",
      "source": [
        "**№4. Дано целое число, большее 999. Используя одну операцию деления нацело и одну операцию взятия остатка от деления, найти цифру, соответствующую разряду сотен в записи этого числа**"
      ],
      "metadata": {
        "id": "LKgitafpShfg"
      }
    },
    {
      "cell_type": "code",
      "source": [
        "x = int(input(\"Введите число = \"))\n",
        "x = x % 1000\n",
        "x = x // 100\n",
        "print(\"Разряд сотен = \", x)"
      ],
      "metadata": {
        "colab": {
          "base_uri": "https://localhost:8080/"
        },
        "id": "vcoODqqASpPo",
        "outputId": "1761373c-9a24-4ab8-d247-9f746b149050"
      },
      "execution_count": null,
      "outputs": [
        {
          "output_type": "stream",
          "name": "stdout",
          "text": [
            "Введите число = 2896\n",
            "Разряд сотен =  8\n"
          ]
        }
      ]
    },
    {
      "cell_type": "markdown",
      "source": [
        "**№5. Даны два целых числа: A, B. Проверить истинность высказывания: «Справедливы неравенства A <= 0 или B < –2».**"
      ],
      "metadata": {
        "id": "xcsipHc0TMF3"
      }
    },
    {
      "cell_type": "code",
      "source": [
        "a = float(input(\"Число A = \"))\n",
        "b = float(input(\"Число B = \"))\n",
        "print(a <= 0 or b < (-2))"
      ],
      "metadata": {
        "colab": {
          "base_uri": "https://localhost:8080/"
        },
        "id": "OITnqgU2Tx-1",
        "outputId": "6731bc5f-a618-4776-b7ed-16821cde32ba"
      },
      "execution_count": null,
      "outputs": [
        {
          "output_type": "stream",
          "name": "stdout",
          "text": [
            "Число A = 3\n",
            "Число B = -4\n",
            "True\n"
          ]
        }
      ]
    },
    {
      "cell_type": "markdown",
      "source": [
        "## Тема 4"
      ],
      "metadata": {
        "id": "32WCCkhpbJZY"
      }
    },
    {
      "cell_type": "markdown",
      "source": [
        "**№1. Вычислить значение функции в точке**"
      ],
      "metadata": {
        "id": "NPgajddJbTGp"
      }
    },
    {
      "cell_type": "code",
      "source": [
        "x = float(input(\"Введите x = \"))\n",
        "if x <= 13:\n",
        "  y = -x**3 + 9\n",
        "else:\n",
        "  y = -3 / (x + 1)\n",
        "print(f\"f({x}) = {y}\")"
      ],
      "metadata": {
        "colab": {
          "base_uri": "https://localhost:8080/"
        },
        "id": "5b3Auw54bNtE",
        "outputId": "d52351ac-0c91-46c8-a7fb-96117cd60a0e"
      },
      "execution_count": null,
      "outputs": [
        {
          "output_type": "stream",
          "name": "stdout",
          "text": [
            "Введите x = 14\n",
            "f(14.0) = -0.2\n"
          ]
        }
      ]
    },
    {
      "cell_type": "markdown",
      "source": [
        "**№2. Подсчитать количество отрицательных чисел среди чисел m, n, p.**"
      ],
      "metadata": {
        "id": "PkD24SB-cS-E"
      }
    },
    {
      "cell_type": "code",
      "source": [
        "m = int(input(\"m = \"))\n",
        "n = int(input(\"n = \"))\n",
        "p = int(input(\"p = \"))\n",
        "k = 0\n",
        "if m < 0:\n",
        "  k+=1\n",
        "if n < 0:\n",
        "  k+=1\n",
        "if p < 0:\n",
        "  k+=1\n",
        "print(k)"
      ],
      "metadata": {
        "colab": {
          "base_uri": "https://localhost:8080/"
        },
        "id": "ALbL3OEGcYF9",
        "outputId": "ac66de17-d6f1-438f-9a76-7c4fffd62deb"
      },
      "execution_count": null,
      "outputs": [
        {
          "output_type": "stream",
          "name": "stdout",
          "text": [
            "m = 1\n",
            "n = -2\n",
            "p = 3\n",
            "1\n"
          ]
        }
      ]
    },
    {
      "cell_type": "markdown",
      "source": [
        "**№3. В небоскребе N этажей и всего один подъезд; на каждом этаже по три квартиры; лифт может останавливаться только на нечетных этажах. Человек садится в лифт и набирает  номер нужной ему квартиры М. На какой этаж должен доставить лифт пассажира?**"
      ],
      "metadata": {
        "id": "XH57YaAndXFo"
      }
    },
    {
      "cell_type": "code",
      "source": [
        "N = int(input(\"N = \"))\n",
        "M = int(input(\"M = \"))\n",
        "floor = M // 3\n",
        "if M % 3 != 0:\n",
        "  floor+=1\n",
        "if floor > N:\n",
        "  print(\"В доме нет столько квартир\")\n",
        "elif floor % 2 == 0:\n",
        "  floor+=1\n",
        "  if floor > N:\n",
        "    floor-=2\n",
        "  print(\"floor = \", floor)"
      ],
      "metadata": {
        "colab": {
          "base_uri": "https://localhost:8080/"
        },
        "id": "h4dV7prudaRj",
        "outputId": "ee6329fc-0725-41b5-fe52-6f7adecb1207"
      },
      "execution_count": null,
      "outputs": [
        {
          "output_type": "stream",
          "name": "stdout",
          "text": [
            "N = 4\n",
            "M = 12\n",
            "floor =  3\n"
          ]
        }
      ]
    },
    {
      "cell_type": "markdown",
      "source": [
        "**№4. Если целое число m делится нацело на целое число n, то вывести на экран частное от деления, в противном случае вывести сообщение \"m на n нацело не\n",
        "делится\"**"
      ],
      "metadata": {
        "id": "8KcdXQQbhWoP"
      }
    },
    {
      "cell_type": "code",
      "source": [
        "m = int(input(\"m = \"))\n",
        "n = int(input(\"n = \"))\n",
        "if m % n == 0:\n",
        "  print(m/n)\n",
        "else:\n",
        "  print(m, \" на \", n, \" нацело не делится\")"
      ],
      "metadata": {
        "colab": {
          "base_uri": "https://localhost:8080/"
        },
        "id": "T1UpuRAPhdxQ",
        "outputId": "1796fba4-c2a3-4d7a-fa62-09636084cf40"
      },
      "execution_count": null,
      "outputs": [
        {
          "output_type": "stream",
          "name": "stdout",
          "text": [
            "m = 15\n",
            "n = 4\n",
            "15  на  4  нацело не делится\n"
          ]
        }
      ]
    },
    {
      "cell_type": "markdown",
      "source": [
        "**№5. Поле шахматной доски определяется парой натуральных чисел, каждое из которых не превосходит 8: первое число — номер вертикали (при счете слева направо), второе — номер горизонтали (при счете снизу вверх). Даны натуральные числа a, b, c, d, каждое из которых не превосходит 8. На поле (a, b) расположен конь. Определить, угрожает ли он полю (c, d).**"
      ],
      "metadata": {
        "id": "NOnRk_bcjgOC"
      }
    },
    {
      "cell_type": "code",
      "source": [
        "print(\"(a, b) = \")\n",
        "a, b = map(int, input().split())\n",
        "print(\"(c, d) = \")\n",
        "c, d = map(int, input().split())\n",
        "if (abs(a - c) == 2 and abs(b - d) == 1) or (abs(a - c) == 1 and abs(b - d) == 2):\n",
        "  print(f\"Конь на ({a},{b}) угрожает полю ({c},{d})\")\n",
        "else:\n",
        "  print(f\"Конь на ({a},{b}) НЕ угрожает полю ({c},{d})\")"
      ],
      "metadata": {
        "colab": {
          "base_uri": "https://localhost:8080/"
        },
        "id": "VLIs7I6KjyC6",
        "outputId": "2ec91ea2-ab91-44fc-988d-0efdd752e8b5"
      },
      "execution_count": null,
      "outputs": [
        {
          "output_type": "stream",
          "name": "stdout",
          "text": [
            "(a, b) = \n",
            "4 4\n",
            "(c, d) = \n",
            "5 2\n",
            "Конь на (4,4) угрожает полю (5,2)\n"
          ]
        }
      ]
    },
    {
      "cell_type": "markdown",
      "source": [
        "##Тема 7"
      ],
      "metadata": {
        "id": "HDlSBtSioiuM"
      }
    },
    {
      "cell_type": "markdown",
      "source": [
        "**№1.\tНайти наибольший общий делитель трех заданных натуральных чисел,\n",
        "используя алгоритм Евклида и учитывая, что НОД(a, b, c) = НОД(НОД(a, b), c).**"
      ],
      "metadata": {
        "id": "UnvyPXVVWfN3"
      }
    },
    {
      "cell_type": "code",
      "source": [
        "a = int(input(\"a = \"))\n",
        "b = int(input(\"b = \"))\n",
        "c = int(input(\"c = \"))\n",
        "\n",
        "while a != 0 and b != 0:\n",
        "  if a > b:\n",
        "    a = a % b\n",
        "  else:\n",
        "    b = b % a\n",
        "gcd_1 = a + b\n",
        "\n",
        "while gcd_1 != 0 and c != 0:\n",
        "  if gcd_1 > c:\n",
        "    gcd_1 = gcd_1 % c\n",
        "  else:\n",
        "    c = c % gcd_1\n",
        "print(\"gcd = \", gcd_1 + c)\n",
        "\n"
      ],
      "metadata": {
        "colab": {
          "base_uri": "https://localhost:8080/"
        },
        "id": "ltCXlI40omkI",
        "outputId": "838cb7e7-60fe-4fcc-ed28-c674c61f48b4"
      },
      "execution_count": null,
      "outputs": [
        {
          "output_type": "stream",
          "name": "stdout",
          "text": [
            "a = 46\n",
            "b = 98\n",
            "c = 30\n",
            "gcd =  2\n"
          ]
        }
      ]
    },
    {
      "cell_type": "markdown",
      "source": [
        "**№2.\tДаны: натуральное n, действительное х. Вычислить: S = tgx + tg(tgx) + $\\sum_{i=1}^{n} tg(tg(tgx))$**"
      ],
      "metadata": {
        "id": "C5SS3P4YfQDo"
      }
    },
    {
      "cell_type": "code",
      "source": [
        "from math import tan\n",
        "n = int(input(\"n = \"))\n",
        "x = float(input(\"x = \"))\n",
        "S = tan(x) + tan(tan(x))\n",
        "for i in range(0,n):\n",
        "  S += tan(tan(tan(x)))\n",
        "print(\"S = \", S)"
      ],
      "metadata": {
        "colab": {
          "base_uri": "https://localhost:8080/"
        },
        "id": "xHUQaECUgYoN",
        "outputId": "140074b3-67d9-4fe0-a098-d283d3f9fe15"
      },
      "execution_count": null,
      "outputs": [
        {
          "output_type": "stream",
          "name": "stdout",
          "text": [
            "n = 1\n",
            "x = 0.5\n",
            "S =  1.8503213211608844\n"
          ]
        }
      ]
    },
    {
      "cell_type": "markdown",
      "source": [
        "**№3.\tНайти сумму ряда с точностью ε=0,001, общий член которого: a = n!/(3n+1)!**"
      ],
      "metadata": {
        "id": "s6Hw01NLZFRJ"
      }
    },
    {
      "cell_type": "code",
      "source": [
        "from math import factorial\n",
        "\n",
        "eps = 0.001\n",
        "n = 0\n",
        "a = factorial(n) / factorial(3 * n + 1)\n",
        "S = a\n",
        "\n",
        "while a > eps:\n",
        "    n += 1\n",
        "    a = factorial(n) / factorial(3 * n + 1)\n",
        "    S += a\n",
        "\n",
        "print(S)\n"
      ],
      "metadata": {
        "colab": {
          "base_uri": "https://localhost:8080/"
        },
        "id": "I5MIjBfpZRma",
        "outputId": "f294831e-081b-44c0-fb16-ebf4bbfda37c"
      },
      "execution_count": null,
      "outputs": [
        {
          "output_type": "stream",
          "name": "stdout",
          "text": [
            "1.0420634920634921\n"
          ]
        }
      ]
    },
    {
      "cell_type": "markdown",
      "source": [
        "**№4.\tДано целое число K, а также K наборов ненулевых целых чисел. Каждый набор содержит не менее трех элементов, признаком его завершения является число 0. Для каждого набора выполнить следующее действие: если набор является пилообразным, то вывести количество его элементов; в противном случае вывести номер первого элемента, который не является зубцом.**"
      ],
      "metadata": {
        "id": "-_9XTSh97ZyF"
      }
    },
    {
      "cell_type": "code",
      "source": [
        "K = int(input(\"K = \"))\n",
        "for i in range(0,K):\n",
        "  num1 = int(input(\"->\"))\n",
        "  num2 = int(input(\"->\"))\n",
        "  num3 = int(input(\"->\"))\n",
        "  count = 3\n",
        "  while num3 != 0:\n",
        "    if (num1 < num2 < num3) or (num1 > num2 > num3):\n",
        "      print(count)\n",
        "      break\n",
        "    num1, num2 = num2, num3\n",
        "    num3 = int(input(\"->\"))\n",
        "    count+=1\n",
        "  if num3 == 0:\n",
        "    print(count-1)"
      ],
      "metadata": {
        "colab": {
          "base_uri": "https://localhost:8080/"
        },
        "id": "Lj2FRgXo7eh9",
        "outputId": "dbb3bd63-7658-4e7e-d0b9-49f994f676a9"
      },
      "execution_count": null,
      "outputs": [
        {
          "output_type": "stream",
          "name": "stdout",
          "text": [
            "K = 2\n",
            "->1\n",
            "->2\n",
            "->1\n",
            "->5\n",
            "->4\n",
            "->10\n",
            "->1\n",
            "->0\n",
            "7\n",
            "->9\n",
            "->3\n",
            "->4\n",
            "->5\n",
            "4\n"
          ]
        }
      ]
    },
    {
      "cell_type": "markdown",
      "source": [
        "##Тема 8"
      ],
      "metadata": {
        "id": "4QhsW_c4_jRo"
      }
    },
    {
      "cell_type": "markdown",
      "source": [
        "**№1.\tНайти все натуральные числа, не превосходящие заданного n, которые делятся на каждую из своих цифр**"
      ],
      "metadata": {
        "id": "cUzsrJNhE2Kt"
      }
    },
    {
      "cell_type": "code",
      "source": [
        "def is_divisible(x):\n",
        "  a = x\n",
        "  while a != 0:\n",
        "    digit = a % 10\n",
        "    if digit == 0 or x % digit != 0:\n",
        "      return False\n",
        "    a //= 10\n",
        "  return True\n",
        "\n",
        "n = int(input(\"n = \"))\n",
        "for i in range(1, n + 1):\n",
        "  if (is_divisible(i)):\n",
        "    print(i)"
      ],
      "metadata": {
        "colab": {
          "base_uri": "https://localhost:8080/"
        },
        "id": "xRyD_lxkE5wk",
        "outputId": "3136c44d-8397-4023-8cac-04c2021d0613"
      },
      "execution_count": null,
      "outputs": [
        {
          "output_type": "stream",
          "name": "stdout",
          "text": [
            "n = 50\n",
            "1\n",
            "2\n",
            "3\n",
            "4\n",
            "5\n",
            "6\n",
            "7\n",
            "8\n",
            "9\n",
            "11\n",
            "12\n",
            "15\n",
            "22\n",
            "24\n",
            "33\n",
            "36\n",
            "44\n",
            "48\n"
          ]
        }
      ]
    },
    {
      "cell_type": "markdown",
      "source": [
        "**№2.\tДаны две дроби A/B и C/D (А, В, С, D — натуральные числа). Составить функцию вычитания из первой дроби второй. Ответ должен быть несократимой дробью.**"
      ],
      "metadata": {
        "id": "qnPcoMfiH6xC"
      }
    },
    {
      "cell_type": "code",
      "source": [
        "def gcd(a, b):\n",
        "  while a != 0 and b != 0:\n",
        "    if a > b:\n",
        "      a = a % b\n",
        "    else:\n",
        "      b = b % a\n",
        "  return a + b\n",
        "\n",
        "def division(A, B, C, D):\n",
        "  numer = A*D + C*B\n",
        "  denom = B * D\n",
        "  gcd_value = gcd(numer, denom)\n",
        "  numer /= gcd_value\n",
        "  denom /= gcd_value\n",
        "  return int(numer), int(denom)\n",
        "\n",
        "A = int(input(\"A = \"))\n",
        "B = int(input(\"B = \"))\n",
        "C = int(input(\"C = \"))\n",
        "D = int(input(\"D = \"))\n",
        "\n",
        "numer, denom = division(A, B, C, D)\n",
        "print(numer, \"/\", denom)"
      ],
      "metadata": {
        "colab": {
          "base_uri": "https://localhost:8080/"
        },
        "id": "cVv83frwICil",
        "outputId": "f4c21ab3-7267-4325-a246-536dc367a912"
      },
      "execution_count": null,
      "outputs": [
        {
          "output_type": "stream",
          "name": "stdout",
          "text": [
            "A = 1\n",
            "B = 2\n",
            "C = 3\n",
            "D = 4\n",
            "5 / 4\n"
          ]
        }
      ]
    },
    {
      "cell_type": "markdown",
      "source": [
        "**№3.\tЕжедневно Незнайка учит половину от суммы выученных за два предыдущих дня иностранных слов и еще два слова. Знайка считает, что силы Незнайки иссякнут, когда нужно будет выучить 50 слов в день. Написать программу, определяющую, через сколько дней иссякнут силы у Незнайки, если в первые два дня он выучил по одному слову**"
      ],
      "metadata": {
        "id": "3RdXFA8RMMPr"
      }
    },
    {
      "cell_type": "code",
      "source": [
        "def count_days():\n",
        "  prev1, prev2 = 1, 1\n",
        "  count = 2\n",
        "  current = prev1 + prev2\n",
        "  while current < 50:\n",
        "    current = (prev1 + prev2) // 2 + 2\n",
        "    prev1, prev2 = prev2, current\n",
        "    count+=1\n",
        "  return count - 1\n",
        "\n",
        "print(count_days())"
      ],
      "metadata": {
        "colab": {
          "base_uri": "https://localhost:8080/"
        },
        "id": "MX5Ko5J5MO2q",
        "outputId": "9ebf46eb-cf52-4e9d-8cd3-ea60c4659f4f"
      },
      "execution_count": null,
      "outputs": [
        {
          "output_type": "stream",
          "name": "stdout",
          "text": [
            "49\n"
          ]
        }
      ]
    }
  ]
}