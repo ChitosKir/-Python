{
  "nbformat": 4,
  "nbformat_minor": 0,
  "metadata": {
    "colab": {
      "provenance": [],
      "authorship_tag": "ABX9TyMMCcvELlsYLlJvskYskmw6",
      "include_colab_link": true
    },
    "kernelspec": {
      "name": "python3",
      "display_name": "Python 3"
    },
    "language_info": {
      "name": "python"
    }
  },
  "cells": [
    {
      "cell_type": "markdown",
      "metadata": {
        "id": "view-in-github",
        "colab_type": "text"
      },
      "source": [
        "<a href=\"https://colab.research.google.com/github/ChitosKir/-Python/blob/main/%D0%A7%D0%B5%D1%82%D0%B8%D0%BD_Task_2_Var_10.ipynb\" target=\"_parent\"><img src=\"https://colab.research.google.com/assets/colab-badge.svg\" alt=\"Open In Colab\"/></a>"
      ]
    },
    {
      "cell_type": "markdown",
      "source": [
        "**№1. Создайте класс Course с полями название курса, код курса и количество кредитов. Реализуйте методы update_credits(new_credits), который обновляет количество кредитов, и display_info(), который выводит информацию о курсе.**"
      ],
      "metadata": {
        "id": "z_lFbnh4X95H"
      }
    },
    {
      "cell_type": "code",
      "execution_count": null,
      "metadata": {
        "colab": {
          "base_uri": "https://localhost:8080/"
        },
        "id": "6NCBWqcJX1KS",
        "outputId": "791692a0-a916-4b64-961a-cc2f29c16464"
      },
      "outputs": [
        {
          "output_type": "stream",
          "name": "stdout",
          "text": [
            "Course name:Python, code:123, credits = 1000\n",
            "Course name:Python, code:123, credits = 5000\n"
          ]
        }
      ],
      "source": [
        "class Course:\n",
        "  def __init__(self, name, code, credits):\n",
        "    self.name = name\n",
        "    self.code = code\n",
        "    self.credits = credits\n",
        "\n",
        "  def update_credits(self, new_credits):\n",
        "    self.credits = new_credits\n",
        "\n",
        "  def display_info(self):\n",
        "    print(f\"Course name:{self.name}, code:{self.code}, credits = {self.credits}\")\n",
        "\n",
        "course = Course(\"Python\", 123, 1000)\n",
        "course.display_info()\n",
        "course.update_credits(5000)\n",
        "course.display_info()"
      ]
    },
    {
      "cell_type": "markdown",
      "source": [
        "**№2. Определите класс Course, который наследуется от класса Event. Класс Course должен добавлять поля код курса и количество кредитов, а также методы для обновления количества кредитов.**"
      ],
      "metadata": {
        "id": "qpoFSE0Egylz"
      }
    },
    {
      "cell_type": "code",
      "source": [
        "class Event:\n",
        "  def __init__(self, name):\n",
        "    self.name = name\n",
        "\n",
        "  def display_name(self):\n",
        "    print(f\"name:{self.name}\")\n",
        "\n",
        "  def set_name(self, new_name):\n",
        "    self.name = new_name\n",
        "\n",
        "class Course(Event):\n",
        "  def __init__(self, name, code, credits):\n",
        "    super().__init__(name)\n",
        "    self.code = code\n",
        "    self.credits = credits\n",
        "\n",
        "  def update_credits(self, new_credits):\n",
        "    self.credits = new_credits\n",
        "\n",
        "  def display_info(self):\n",
        "    self.display_name()\n",
        "    print(f\"code:{self.code}, credits = {self.credits}\")\n",
        "\n",
        "course = Course(\"Python\", 321, 1000)\n",
        "course.display_info()\n",
        "course.update_credits(4500)\n",
        "course.set_name(\"New\")\n",
        "course.display_info()"
      ],
      "metadata": {
        "colab": {
          "base_uri": "https://localhost:8080/"
        },
        "id": "b3luC7iUhDdU",
        "outputId": "eeb80355-4378-4553-c7dd-17efcd86ed95"
      },
      "execution_count": null,
      "outputs": [
        {
          "output_type": "stream",
          "name": "stdout",
          "text": [
            "name:Python\n",
            "code:321, credits = 1000\n",
            "name:New\n",
            "code:321, credits = 4500\n"
          ]
        }
      ]
    },
    {
      "cell_type": "markdown",
      "source": [
        "**№3. Создать класс Course, в котором поля courseName, courseCode и credits будут приватными. Реализовать методы для доступа и изменения количества кредитов с проверкой на допустимые значения.**"
      ],
      "metadata": {
        "id": "FDw14B4RlxzB"
      }
    },
    {
      "cell_type": "code",
      "source": [
        "class Course:\n",
        "  def __init__(self, name, code, credits):\n",
        "    self.__courseName = name\n",
        "    self.__courseCode = code\n",
        "    self.__credits = credits\n",
        "\n",
        "  def get_name(self):\n",
        "    return self.__courseName\n",
        "  def get_code(self):\n",
        "    return self.__courseCode\n",
        "  def get_credits(self):\n",
        "    return self.__credits\n",
        "\n",
        "  def set_credits(self, new_credits):\n",
        "    if (new_credits >= 0):\n",
        "      self.__credits = new_credits\n",
        "    else:\n",
        "      print(\"Credits не может быть отрицательным\")\n",
        "\n",
        "course = Course(\"Python\", 456, 3500)\n",
        "print(\"name:\", course.get_name())\n",
        "print(\"code:\", course.get_code())\n",
        "print(\"credits =\", course.get_credits())\n",
        "course.set_credits(6700)\n",
        "print(\"updated credits =\", course.get_credits())"
      ],
      "metadata": {
        "colab": {
          "base_uri": "https://localhost:8080/"
        },
        "id": "OdxG2ANbl9Lm",
        "outputId": "1b083200-5735-47a7-c56b-13b69efd4cf6"
      },
      "execution_count": null,
      "outputs": [
        {
          "output_type": "stream",
          "name": "stdout",
          "text": [
            "name: Python\n",
            "code: 456\n",
            "credits = 3500\n",
            "updated credits = 6700\n"
          ]
        }
      ]
    },
    {
      "cell_type": "markdown",
      "source": [
        "**№4. Машина и топливный бак. Создайте класс `Машина`, содержащий топливный бак. В классе `Машина` должны быть методы для заправки. Класс `Топливный бак` должен иметь поля `емкость` и `уровень топлива`, а также метод для его наполнения. Топливный бак не может существовать отдельно от машины.**"
      ],
      "metadata": {
        "id": "m-ZsNbvlRAeg"
      }
    },
    {
      "cell_type": "code",
      "source": [
        "class Car:\n",
        "  def __init__(self, brand, model, capacity, fuel):\n",
        "    self.brand = brand\n",
        "    self.model = model\n",
        "    self.tank = self.Tank(capacity, fuel)\n",
        "\n",
        "  def refill_tank(self, add_fuel):\n",
        "    self.tank.filling(add_fuel);\n",
        "\n",
        "  def display_info(self):\n",
        "    print(f\"{car.brand} {car.model} capacity={car.tank.capacity} fuel={car.tank.fuel}\")\n",
        "\n",
        "  class Tank:\n",
        "    def __init__(self, capacity, fuel):\n",
        "      self.capacity = capacity\n",
        "      self.fuel = fuel\n",
        "\n",
        "    def filling(self, add_fuel):\n",
        "      if add_fuel >= 0:\n",
        "        self.fuel = self.fuel + add_fuel\n",
        "        if self.fuel > self.capacity:\n",
        "          self.fuel = self.capacity\n",
        "      else:\n",
        "        print(\"Отрицательное количество топлива\")\n",
        "\n",
        "car = Car(\"Volkswagen\", \"Golf\", 55, 18);\n",
        "car.display_info()\n",
        "car.refill_tank(22)\n",
        "car.display_info()"
      ],
      "metadata": {
        "colab": {
          "base_uri": "https://localhost:8080/"
        },
        "id": "j5GywPPYRIeZ",
        "outputId": "3845ef51-4953-44aa-d735-62a66d923d42"
      },
      "execution_count": null,
      "outputs": [
        {
          "output_type": "stream",
          "name": "stdout",
          "text": [
            "Volskwagen Golf capacity=55 fuel=18\n",
            "Volskwagen Golf capacity=55 fuel=40\n"
          ]
        }
      ]
    },
    {
      "cell_type": "markdown",
      "source": [
        "**№5. Лаборатория и оборудование. Создайте класс `Лаборатория`, в которой есть оборудование. У класса `Оборудование` есть поля `название` и `функция`. Оборудование может существовать вне лаборатории.**"
      ],
      "metadata": {
        "id": "ySBsEVS5Hr0H"
      }
    },
    {
      "cell_type": "code",
      "source": [
        "class Equipment:\n",
        "  def __init__(self, name, function):\n",
        "    self.name = name\n",
        "    self.function = function\n",
        "\n",
        "  def get_name(self):\n",
        "    return self.name\n",
        "\n",
        "  def get_function(self):\n",
        "    return self.function\n",
        "\n",
        "  def display_info(self):\n",
        "    print(f\"Название:{self.name} Функция:{self.function}\")\n",
        "\n",
        "class Laboratory:\n",
        "  def __init__(self):\n",
        "    self.equipment = []\n",
        "\n",
        "  def add_equipment(self, equipment):\n",
        "    self.equipment.append(equipment)\n",
        "\n",
        "  def display_equipment(self):\n",
        "    print(\"Список оборудования:\")\n",
        "    for equip in self.equipment:\n",
        "      equip.display_info()\n",
        "\n",
        "equip1 = Equipment(\"ящик\", \"хранить\")\n",
        "equip2 = Equipment(\"спичка\", \"поджигать\")\n",
        "equip3 = Equipment(\"лампа\", \"светить\")\n",
        "\n",
        "Lab1 = Laboratory()\n",
        "Lab1.add_equipment(equip1)\n",
        "Lab1.add_equipment(equip2)\n",
        "Lab1.add_equipment(equip3)\n",
        "Lab1.display_equipment()"
      ],
      "metadata": {
        "colab": {
          "base_uri": "https://localhost:8080/"
        },
        "id": "JAnERYcFHw6-",
        "outputId": "7bffff50-2b17-483b-f66e-d0e82bd1a0d2"
      },
      "execution_count": 5,
      "outputs": [
        {
          "output_type": "stream",
          "name": "stdout",
          "text": [
            "Список оборудования:\n",
            "Название:ящик Функция:хранить\n",
            "Название:спичка Функция:поджигать\n",
            "Название:лампа Функция:светить\n"
          ]
        }
      ]
    },
    {
      "cell_type": "markdown",
      "source": [
        "**№6. Создать абстрактный класс Ticket с абстрактным методом calculatePrice(). Реализовать подклассы ConcertTicket и MovieTicket, которые реализуют метод calculatePrice().**"
      ],
      "metadata": {
        "id": "PTdGp75QNhmC"
      }
    },
    {
      "cell_type": "code",
      "source": [
        "from abc import ABC, abstractmethod\n",
        "\n",
        "class Ticket(ABC):\n",
        "  @abstractmethod\n",
        "  def calculate_price(self, num_tickets):\n",
        "    pass\n",
        "\n",
        "class ConcertTicket(Ticket):\n",
        "  def calculate_price(self, num_tickets):\n",
        "    return num_tickets * 1600\n",
        "\n",
        "class MovieTicket(Ticket):\n",
        "  def calculate_price(self, num_tickets):\n",
        "    return num_tickets * 400\n",
        "\n",
        "movie = MovieTicket()\n",
        "concert = ConcertTicket()\n",
        "\n",
        "print(\"Цена билетов в кино =\", movie.calculate_price(4))\n",
        "print(\"Цена билетов на концерт =\", concert.calculate_price(5))"
      ],
      "metadata": {
        "colab": {
          "base_uri": "https://localhost:8080/"
        },
        "id": "h9i0aL4LNnjF",
        "outputId": "a1d8c787-52bc-48cc-db93-4301333d5c02"
      },
      "execution_count": 9,
      "outputs": [
        {
          "output_type": "stream",
          "name": "stdout",
          "text": [
            "Цена билетов в кино = 1600\n",
            "Цена билетов на концерт = 8000\n"
          ]
        }
      ]
    },
    {
      "cell_type": "markdown",
      "source": [
        "**№7. Создать интерфейс ICourse, который содержит методы updateCredits(int credits) и getCourseInfo(). Создать класс Course, реализующий этот интерфейс. Класс должен содержать поля name, code и credits**"
      ],
      "metadata": {
        "id": "NerXJ9HBRZdg"
      }
    },
    {
      "cell_type": "code",
      "source": [
        "from abc import ABC, abstractmethod\n",
        "class ICourse(ABC):\n",
        "  def updateCredits(self, credits):\n",
        "    pass\n",
        "\n",
        "  def getCourseInfo(self):\n",
        "    pass\n",
        "\n",
        "class Course(ICourse):\n",
        "  def __init__(self, name, code, credits):\n",
        "    self.name = name\n",
        "    self.code = code\n",
        "    self.credits = credits\n",
        "\n",
        "  def update_credits(self, credits):\n",
        "    self.credits = credits\n",
        "\n",
        "  def getCourseInfo(self):\n",
        "    print(f\"Course name:{self.name}, code:{self.code}, credits = {self.credits}\")\n",
        "\n",
        "course = Course(\"Python\", 123, 1000)\n",
        "course.getCourseInfo()\n",
        "course.updateCredits(5000)\n",
        "course.getCourseInfo()"
      ],
      "metadata": {
        "colab": {
          "base_uri": "https://localhost:8080/"
        },
        "id": "XhA-R9p2RdNs",
        "outputId": "4f13872d-d464-4e59-a77d-d51734fab95b"
      },
      "execution_count": 11,
      "outputs": [
        {
          "output_type": "stream",
          "name": "stdout",
          "text": [
            "Course name:Python, code:123, credits = 1000\n",
            "Course name:Python, code:123, credits = 1000\n"
          ]
        }
      ]
    },
    {
      "cell_type": "markdown",
      "source": [
        "**№8. В классе Course определите метод calculateFinalGrade(), который вычисляет итоговую оценку. Создайте подклассы OnlineCourse и OfflineCourse, которые будут переопределять этот метод для разных типов курсов.**"
      ],
      "metadata": {
        "id": "YtYl7TdhVLjo"
      }
    },
    {
      "cell_type": "code",
      "source": [
        "class Course:\n",
        "  def __init__(self, name, credits):\n",
        "    self.name = name\n",
        "    self.credits = credits\n",
        "\n",
        "  def calculateFinalGrade(self):\n",
        "    return self.credits / 10\n",
        "\n",
        "class OnlineCourse(Course):\n",
        "  def calculateFinalGrade(self):\n",
        "    return self.credits / 8\n",
        "\n",
        "class OfflineCourse(Course):\n",
        "  def calculateFinalGrade(self):\n",
        "    return self.credits / 5\n",
        "\n",
        "online = OnlineCourse(\"Python\", 1504)\n",
        "offline = OfflineCourse(\"C#\", 455)\n",
        "print(\"Grade online course: \", online.calculateFinalGrade())\n",
        "print(\"Grade offline course: \", offline.calculateFinalGrade())"
      ],
      "metadata": {
        "colab": {
          "base_uri": "https://localhost:8080/"
        },
        "id": "LW6wm2QPVQ6U",
        "outputId": "dc4fe0ac-bab8-4ab9-8fe2-5b74aa795511"
      },
      "execution_count": 1,
      "outputs": [
        {
          "output_type": "stream",
          "name": "stdout",
          "text": [
            "Grade online course:  188.0\n",
            "Grade offline course:  91.0\n"
          ]
        }
      ]
    }
  ]
}