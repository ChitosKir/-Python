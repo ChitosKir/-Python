{
 "cells": [
  {
   "cell_type": "markdown",
   "id": "b735067e",
   "metadata": {},
   "source": [
    "### **1. Создание базы данных и таблиц**\n",
    "Создайте базу данных `library.db` и таблицу `books` с полями:\n",
    "- `id` (PRIMARY KEY, AUTOINCREMENT),\n",
    "- `title` (TEXT, NOT NULL),\n",
    "- `author` (TEXT, NOT NULL),\n",
    "- `year_published` (INTEGER),\n",
    "- `genre` (TEXT)."
   ]
  },
  {
   "cell_type": "code",
   "execution_count": 63,
   "id": "571ea71c",
   "metadata": {},
   "outputs": [],
   "source": [
    "import sqlite3\n",
    "con = sqlite3.connect('library.db')\n",
    "cursor = con.cursor()\n",
    "\n",
    "create_table_query = \"\"\"\n",
    "CREATE TABLE IF NOT EXISTS books (\n",
    "    id INTEGER PRIMARY KEY AUTOINCREMENT,\n",
    "    title TEXT NOT NULL,\n",
    "    author TEXT NOT NULL,\n",
    "    year_published INTEGER,\n",
    "    genre TEXT\n",
    ")\n",
    "\"\"\"\n",
    "cursor.execute(create_table_query)\n",
    "con.commit()"
   ]
  },
  {
   "cell_type": "markdown",
   "id": "2a004881",
   "metadata": {},
   "source": [
    "### **2. Вставка данных**\n",
    "Добавьте в таблицу `books` следующие записи:\n",
    "- \"The Great Gatsby\", автор: F. Scott Fitzgerald, год: 1925, жанр: Fiction.\n",
    "- \"1984\", автор: George Orwell, год: 1949, жанр: Dystopian.\n",
    "- \"To Kill a Mockingbird\", автор: Harper Lee, год: 1960, жанр: Classic."
   ]
  },
  {
   "cell_type": "code",
   "execution_count": null,
   "id": "132666d8",
   "metadata": {},
   "outputs": [],
   "source": [
    "insert_query = \"\"\"\n",
    "INSERT INTO books (title, author, year_published, genre)\n",
    "VALUES(?, ?, ?, ?)\n",
    "\"\"\"\n",
    "_books = [\n",
    "    (\"The Great Gatsby\", \"F. Scott Fitzgerald\",  1925, \"Fiction\"),\n",
    "    (\"To Kill a Mockingbird\", \"Harper Lee\", 1960, \"Classic\"),\n",
    "    (\"1984\", \"George Orwell\", 1949, \"Dystopian\")\n",
    "]\n",
    "\n",
    "cursor.executemany(insert_query, _books)\n",
    "\n",
    "con.commit()"
   ]
  },
  {
   "cell_type": "markdown",
   "id": "cc6f29d6",
   "metadata": {},
   "source": [
    "### **3. Выборка всех данных**\n",
    "Напишите запрос, который выбирает все книги из таблицы `books`"
   ]
  },
  {
   "cell_type": "code",
   "execution_count": null,
   "id": "3a80cfb3",
   "metadata": {},
   "outputs": [
    {
     "name": "stdout",
     "output_type": "stream",
     "text": [
      "(2, 'To Kill a Mockingbird', 'Harper Lee', 1960, 'Classic')\n",
      "(3, '1984', 'George Orwell', 1948, 'Dystopian')\n",
      "(4, 'The Great Gatsby', 'F. Scott Fitzgerald', 1925, 'Fiction')\n",
      "(5, 'The Great Gatsby', 'F. Scott Fitzgerald', 1925, 'Fiction')\n",
      "(6, 'The Great Gatsby', 'F. Scott Fitzgerald', 1925, 'Fiction')\n"
     ]
    }
   ],
   "source": [
    "select_query = \"\"\"\n",
    "SELECT * FROM books\n",
    "\"\"\"\n",
    "cursor.execute(select_query)\n",
    "data = cursor.fetchall()\n",
    "for item in data:\n",
    "    print(item)"
   ]
  },
  {
   "cell_type": "markdown",
   "id": "9fe72f2f",
   "metadata": {},
   "source": [
    "### **4. Фильтрация данных**\n",
    "Выберите все книги, опубликованные после 1950 года."
   ]
  },
  {
   "cell_type": "code",
   "execution_count": 4,
   "id": "4d6ea325",
   "metadata": {},
   "outputs": [
    {
     "name": "stdout",
     "output_type": "stream",
     "text": [
      "(2, 'To Kill a Mockingbird', 'Harper Lee', 1960, 'Classic')\n"
     ]
    }
   ],
   "source": [
    "select_query = \"\"\"\n",
    "SELECT * FROM books\n",
    "WHERE year_published > 1950\n",
    "\"\"\"\n",
    "cursor.execute(select_query)\n",
    "data = cursor.fetchall()\n",
    "for item in data:\n",
    "    print(item)"
   ]
  },
  {
   "cell_type": "markdown",
   "id": "13596bf2",
   "metadata": {},
   "source": [
    "### **5. Использование оператора `LIKE`**\n",
    "Найдите все книги, название которых начинается с буквы \"T\"."
   ]
  },
  {
   "cell_type": "code",
   "execution_count": 5,
   "id": "44157a9f",
   "metadata": {},
   "outputs": [
    {
     "name": "stdout",
     "output_type": "stream",
     "text": [
      "(1, 'The Great Gatsby', 'F. Scott Fitzgerald', 1925, 'Fiction')\n",
      "(2, 'To Kill a Mockingbird', 'Harper Lee', 1960, 'Classic')\n"
     ]
    }
   ],
   "source": [
    "select_query = \"\"\"\n",
    "SELECT * FROM books \n",
    "WHERE title LIKE 'T%'\n",
    "\"\"\"\n",
    "cursor.execute(select_query)\n",
    "data = cursor.fetchall()\n",
    "for item in data:\n",
    "    print(item)"
   ]
  },
  {
   "cell_type": "markdown",
   "id": "78360275",
   "metadata": {},
   "source": [
    "### **6. Сортировка данных**\n",
    "Отсортируйте книги по году публикации в порядке возрастания."
   ]
  },
  {
   "cell_type": "code",
   "execution_count": 6,
   "id": "014f1ed7",
   "metadata": {},
   "outputs": [
    {
     "name": "stdout",
     "output_type": "stream",
     "text": [
      "(1, 'The Great Gatsby', 'F. Scott Fitzgerald', 1925, 'Fiction')\n",
      "(3, '1984', 'George Orwell', 1949, 'Dystopian')\n",
      "(2, 'To Kill a Mockingbird', 'Harper Lee', 1960, 'Classic')\n"
     ]
    }
   ],
   "source": [
    "select_query = \"\"\"\n",
    "SELECT * FROM books \n",
    "ORDER BY year_published ASC\n",
    "\"\"\"\n",
    "cursor.execute(select_query)\n",
    "data = cursor.fetchall()\n",
    "for item in data:\n",
    "    print(item)"
   ]
  },
  {
   "cell_type": "markdown",
   "id": "b6572add",
   "metadata": {},
   "source": [
    "### **7. Ограничение количества строк**\n",
    "Выберите первые две книги из таблицы `books`, отсортированные по названию."
   ]
  },
  {
   "cell_type": "code",
   "execution_count": 7,
   "id": "ba56a068",
   "metadata": {},
   "outputs": [
    {
     "name": "stdout",
     "output_type": "stream",
     "text": [
      "(1, 'The Great Gatsby', 'F. Scott Fitzgerald', 1925, 'Fiction')\n",
      "(3, '1984', 'George Orwell', 1949, 'Dystopian')\n"
     ]
    }
   ],
   "source": [
    "select_query = \"\"\"\n",
    "SELECT * FROM books \n",
    "ORDER BY year_published ASC\n",
    "LIMIT 2\n",
    "\"\"\"\n",
    "cursor.execute(select_query)\n",
    "data = cursor.fetchall()\n",
    "for item in data:\n",
    "    print(item)"
   ]
  },
  {
   "cell_type": "markdown",
   "id": "05e7ee02",
   "metadata": {},
   "source": [
    "### **8. Агрегатные функции**\n",
    "Подсчитайте общее количество книг в таблице `books`."
   ]
  },
  {
   "cell_type": "code",
   "execution_count": 13,
   "id": "7d7ca480",
   "metadata": {},
   "outputs": [
    {
     "name": "stdout",
     "output_type": "stream",
     "text": [
      "Всего книг: 3\n"
     ]
    }
   ],
   "source": [
    "select_query = \"\"\"\n",
    "SELECT COUNT(*) AS total_books FROM books\n",
    "\"\"\"\n",
    "cursor.execute(select_query)\n",
    "res = cursor.fetchone()\n",
    "print(f\"Всего книг: {res[0]}\")"
   ]
  },
  {
   "cell_type": "markdown",
   "id": "1ad025cf",
   "metadata": {},
   "source": [
    "### **9. Группировка данных**\n",
    "Подсчитайте количество книг для каждого жанра."
   ]
  },
  {
   "cell_type": "code",
   "execution_count": 15,
   "id": "82510c85",
   "metadata": {},
   "outputs": [
    {
     "name": "stdout",
     "output_type": "stream",
     "text": [
      "Жанр: Classic, Кол-во: 1\n",
      "Жанр: Dystopian, Кол-во: 1\n",
      "Жанр: Fiction, Кол-во: 1\n"
     ]
    }
   ],
   "source": [
    "select_query = \"\"\"\n",
    "SELECT genre, COUNT(*) AS count\n",
    "FROM books\n",
    "GROUP BY genre \n",
    "\"\"\"\n",
    "cursor.execute(select_query)\n",
    "data = cursor.fetchall()\n",
    "for item in data:\n",
    "    print(f\"Жанр: {item[0]}, Кол-во: {item[1]}\")"
   ]
  },
  {
   "cell_type": "markdown",
   "id": "333ee83f",
   "metadata": {},
   "source": [
    "### **10. Обновление данных**\n",
    "Обновите год публикации книги \"1984\" на 1948."
   ]
  },
  {
   "cell_type": "code",
   "execution_count": 27,
   "id": "1c72924a",
   "metadata": {},
   "outputs": [
    {
     "name": "stdout",
     "output_type": "stream",
     "text": [
      "(3, '1984', 'George Orwell', 1948, 'Dystopian')\n"
     ]
    }
   ],
   "source": [
    "update_query = \"\"\"\n",
    "UPDATE books\n",
    "SET year_published = 1948\n",
    "WHERE title = 1984\n",
    "\"\"\"\n",
    "cursor.execute(update_query)\n",
    "select_query = \"\"\"\n",
    "SELECT * FROM books\n",
    "WHERE title = 1984\n",
    "\"\"\"\n",
    "cursor.execute(select_query)\n",
    "data = cursor.fetchone()\n",
    "print(data)\n"
   ]
  },
  {
   "cell_type": "markdown",
   "id": "e324e206",
   "metadata": {},
   "source": [
    "### **11. Удаление данных**\n",
    "Удалите книгу с названием \"The Great Gatsby\"."
   ]
  },
  {
   "cell_type": "code",
   "execution_count": 45,
   "id": "37349b50",
   "metadata": {},
   "outputs": [
    {
     "name": "stdout",
     "output_type": "stream",
     "text": [
      "(2, 'To Kill a Mockingbird', 'Harper Lee', 1960, 'Classic')\n",
      "(3, '1984', 'George Orwell', 1948, 'Dystopian')\n"
     ]
    }
   ],
   "source": [
    "delete_query = \"\"\"\n",
    "DELETE FROM books\n",
    "WHERE title = 'The Great Gatsby'\n",
    "\"\"\"\n",
    "cursor.execute(delete_query)\n",
    "select_query = \"\"\"\n",
    "SELECT * FROM books\n",
    "\"\"\"\n",
    "cursor.execute(select_query)\n",
    "data = cursor.fetchall()\n",
    "for item in data:\n",
    "    print(item)"
   ]
  },
  {
   "cell_type": "markdown",
   "id": "d9915b90",
   "metadata": {},
   "source": [
    "### **12. Создание индекса**\n",
    "Создайте индекс для столбца `author` в таблице `books`."
   ]
  },
  {
   "cell_type": "code",
   "execution_count": 29,
   "id": "0fcf0968",
   "metadata": {},
   "outputs": [
    {
     "data": {
      "text/plain": [
       "<sqlite3.Cursor at 0x2632b2b7b40>"
      ]
     },
     "execution_count": 29,
     "metadata": {},
     "output_type": "execute_result"
    }
   ],
   "source": [
    "index_query = \"\"\"\n",
    "CREATE INDEX IF NOT EXISTS idx_books_author\n",
    "ON books (author);\n",
    "\"\"\"\n",
    "cursor.execute(index_query)"
   ]
  },
  {
   "cell_type": "markdown",
   "id": "9341eeeb",
   "metadata": {},
   "source": [
    "### **13. Проверка существования индекса**\n",
    "Проверьте, существует ли индекс для столбца `author`."
   ]
  },
  {
   "cell_type": "code",
   "execution_count": 32,
   "id": "d60ce1f8",
   "metadata": {},
   "outputs": [
    {
     "name": "stdout",
     "output_type": "stream",
     "text": [
      "Индекс 'idx_books_author' существует.\n"
     ]
    }
   ],
   "source": [
    "check_idx_query = \"\"\"\n",
    "SELECT name FROM sqlite_master WHERE type='index' AND name='idx_books_author'\n",
    "\"\"\"\n",
    "cursor.execute(check_idx_query)\n",
    "result = cursor.fetchone()\n",
    "if result:\n",
    "    print(f\"Индекс '{result[0]}' существует.\")\n",
    "else:\n",
    "    print(\"Индекс не существует.\")"
   ]
  },
  {
   "cell_type": "markdown",
   "id": "a11aef6e",
   "metadata": {},
   "source": [
    "### **14. Триггер для логирования**\n",
    "Создайте триггер, который записывает изменения в таблицу `logs` при добавлении новой книги."
   ]
  },
  {
   "cell_type": "code",
   "execution_count": null,
   "id": "b7c0850a",
   "metadata": {},
   "outputs": [
    {
     "name": "stdout",
     "output_type": "stream",
     "text": [
      "(1, 7, 'INSERT', '2025-04-25 18:42:17')\n"
     ]
    }
   ],
   "source": [
    "cursor.execute(\"\"\"\n",
    "CREATE TABLE IF NOT EXISTS logs (\n",
    "    id INTEGER PRIMARY KEY AUTOINCREMENT,\n",
    "    book_id INTEGER,\n",
    "    action TEXT,\n",
    "    timestamp DATETIME DEFAULT CURRENT_TIMESTAMP\n",
    ");\n",
    "\"\"\")\n",
    "\n",
    "create_trigger_query = \"\"\"\n",
    "CREATE TRIGGER IF NOT EXISTS log_books_changes\n",
    "AFTER INSERT ON books\n",
    "FOR EACH ROW\n",
    "BEGIN\n",
    "    INSERT INTO logs (book_id, action)\n",
    "    VALUES (NEW.id, 'INSERT');\n",
    "END;\n",
    "\"\"\"\n",
    "cursor.execute(create_trigger_query)\n",
    "\n",
    "insert_query = \"\"\"\n",
    "INSERT INTO books (title, author, year_published, genre)\n",
    "VALUES(?, ?, ?, ?)\n",
    "\"\"\"\n",
    "con.commit()\n",
    "cursor.execute(insert_query, (\"The Great Gatsby\", \"F. Scott Fitzgerald\",  1925, \"Fiction\"))\n",
    "\n",
    "cursor.execute(\"\"\"\n",
    "SELECT * FROM logs\n",
    "\"\"\")\n",
    "_logs = cursor.fetchall()\n",
    "for log in _logs:\n",
    "    print(log)"
   ]
  },
  {
   "cell_type": "markdown",
   "id": "9c0a4c39",
   "metadata": {},
   "source": [
    "### **15. Транзакции**\n",
    "Создайте программу, которая выполняет следующие действия в рамках одной транзакции:\n",
    "1. Добавляет новую книгу.\n",
    "2. Обновляет год публикации другой книги.\n",
    "3. Отменяет изменения, если возникает ошибка."
   ]
  },
  {
   "cell_type": "code",
   "execution_count": 47,
   "id": "901d591e",
   "metadata": {},
   "outputs": [
    {
     "name": "stdout",
     "output_type": "stream",
     "text": [
      "Ошибка: cannot start a transaction within a transaction. Изменения отменены.\n",
      "(2, 'To Kill a Mockingbird', 'Harper Lee', 1960, 'Classic')\n",
      "(3, '1984', 'George Orwell', 1948, 'Dystopian')\n"
     ]
    }
   ],
   "source": [
    "try:\n",
    "    cursor.execute('BEGIN TRANSACTION')\n",
    "    \n",
    "    cursor.execute(\"\"\"\n",
    "    INSERT INTO books (title, author, year_published, genre)\n",
    "    VALUES(?, ?, ?, ?);\n",
    "    \"\"\", (\"Brave New World\", \"Aldous Huxley\", 1932, \"Dystopian\"))\n",
    "\n",
    "    cursor.execute(\"\"\"\n",
    "    UPDATE books\n",
    "    SET year_published = 2005\n",
    "    WHERE title = 'To Kill a Mockingbird'\n",
    "    \"\"\")\n",
    "    con.commit()\n",
    "except sqlite3.Error as e:\n",
    "    con.rollback()\n",
    "    print(f\"Ошибка: {e}. Изменения отменены.\")\n",
    "\n",
    "cursor.execute(\"\"\"\n",
    "SELECT * FROM books\n",
    "\"\"\")\n",
    "data = cursor.fetchall()\n",
    "for item in data:\n",
    "    print(item)\n"
   ]
  },
  {
   "cell_type": "markdown",
   "id": "8336630e",
   "metadata": {},
   "source": [
    "### **16. Пользовательская функция**\n",
    "Создайте пользовательскую функцию на Python, которая вычисляет возраст книги (текущий год минус год публикации), и используйте её в SQL-запросе."
   ]
  },
  {
   "cell_type": "code",
   "execution_count": 49,
   "id": "b6997c9d",
   "metadata": {},
   "outputs": [
    {
     "name": "stdout",
     "output_type": "stream",
     "text": [
      "Книга: To Kill a Mockingbird, год: 1960, возраст: 65\n",
      "Книга: 1984, год: 1948, возраст: 77\n"
     ]
    }
   ],
   "source": [
    "from datetime import datetime\n",
    "\n",
    "def calculate_age(year_published):\n",
    "    curr_year = datetime.now().year\n",
    "    return curr_year - year_published\n",
    "\n",
    "con.create_function(\"book_age\", 1, calculate_age)\n",
    "\n",
    "cursor.execute('''\n",
    "SELECT title, year_published, book_age(year_published)\n",
    "FROM books\n",
    "''')\n",
    "for row in cursor.fetchall():\n",
    "    print(f\"Книга: {row[0]}, год: {row[1]}, возраст: {row[2]}\")"
   ]
  },
  {
   "cell_type": "markdown",
   "id": "e9c564a2",
   "metadata": {},
   "source": [
    "### **17. Представления**\n",
    "Создайте представление `modern_books`, которое содержит книги, опубликованные после 1950 года."
   ]
  },
  {
   "cell_type": "code",
   "execution_count": 50,
   "id": "e8770673",
   "metadata": {},
   "outputs": [
    {
     "name": "stdout",
     "output_type": "stream",
     "text": [
      "(2, 'To Kill a Mockingbird', 'Harper Lee', 1960, 'Classic')\n"
     ]
    }
   ],
   "source": [
    "cursor.execute('''\n",
    "CREATE VIEW IF NOT EXISTS modern_books AS\n",
    "SELECT * FROM books WHERE year_published > 1950\n",
    "''')\n",
    "con.commit()\n",
    "\n",
    "cursor.execute('SELECT * FROM modern_books')\n",
    "modern_books = cursor.fetchall()\n",
    "\n",
    "\n",
    "for book in modern_books:\n",
    "    print(book)"
   ]
  },
  {
   "cell_type": "markdown",
   "id": "7ad6332f",
   "metadata": {},
   "source": [
    "### **18. Удаление таблицы**\n",
    "Удалите таблицу `books` и проверьте её существование."
   ]
  },
  {
   "cell_type": "code",
   "execution_count": 64,
   "id": "2c38e647",
   "metadata": {},
   "outputs": [
    {
     "name": "stdout",
     "output_type": "stream",
     "text": [
      "Таблицы не существует\n"
     ]
    }
   ],
   "source": [
    "cursor.execute('DROP TABLE IF EXISTS books')\n",
    "\n",
    "select_query = \"\"\"\n",
    "SELECT * FROM books\n",
    "\"\"\"\n",
    "\n",
    "try:\n",
    "    data = cursor.execute(select_query)\n",
    "    for item in data:\n",
    "        print(item)\n",
    "except Exception:\n",
    "    print(\"Таблицы не существует\")\n",
    "\n",
    "con.close()"
   ]
  },
  {
   "cell_type": "markdown",
   "id": "53a89a1f",
   "metadata": {},
   "source": [
    "### **19. Композитный индекс**\n",
    "Создайте композитный индекс для столбцов `author` и `year_published` в таблице `books`."
   ]
  },
  {
   "cell_type": "code",
   "execution_count": null,
   "id": "45d4e0da",
   "metadata": {},
   "outputs": [],
   "source": [
    "cursor.execute('''\n",
    "CREATE INDEX IF NOT EXISTS idx_author_year\n",
    "ON books (author, year_published)\n",
    "''')\n",
    "con.commit()\n",
    "con.close()"
   ]
  },
  {
   "cell_type": "markdown",
   "id": "02383ce9",
   "metadata": {},
   "source": [
    "### **20. Удаление базы данных**\n",
    "Напишите программу, которая удаляет файл базы данных `library.db`, если он существует."
   ]
  },
  {
   "cell_type": "code",
   "execution_count": 1,
   "id": "5fd12b10",
   "metadata": {},
   "outputs": [
    {
     "name": "stdout",
     "output_type": "stream",
     "text": [
      "Удаляем базу данных 'library.db'...\n"
     ]
    }
   ],
   "source": [
    "import os\n",
    "\n",
    "db_file = 'library.db'\n",
    "\n",
    "if os.path.exists(db_file):\n",
    "    print(f\"Удаляем базу данных '{db_file}'...\")\n",
    "    os.remove(db_file)\n",
    "else:\n",
    "    print(f\"База данных '{db_file}' не существует.\")"
   ]
  }
 ],
 "metadata": {
  "kernelspec": {
   "display_name": "Python 3",
   "language": "python",
   "name": "python3"
  },
  "language_info": {
   "codemirror_mode": {
    "name": "ipython",
    "version": 3
   },
   "file_extension": ".py",
   "mimetype": "text/x-python",
   "name": "python",
   "nbconvert_exporter": "python",
   "pygments_lexer": "ipython3",
   "version": "3.11.9"
  }
 },
 "nbformat": 4,
 "nbformat_minor": 5
}
