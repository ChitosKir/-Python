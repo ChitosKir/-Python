{
 "cells": [
  {
   "cell_type": "markdown",
   "id": "35735612",
   "metadata": {},
   "source": [
    "## Тема 11 - Символы и строки: группа String"
   ]
  },
  {
   "cell_type": "markdown",
   "id": "7cfe35b7",
   "metadata": {},
   "source": [
    "**#1. Дана последовательность слов. Напечатать все слова, отличные от слова \"hello\".**"
   ]
  },
  {
   "cell_type": "code",
   "execution_count": 2,
   "id": "4a9594bd",
   "metadata": {},
   "outputs": [
    {
     "name": "stdout",
     "output_type": "stream",
     "text": [
      "hi how are you again "
     ]
    }
   ],
   "source": [
    "string = \"hello hi how are you hello again\"\n",
    "words = string.split()\n",
    "for elem in words:\n",
    "  if elem != \"hello\":\n",
    "    print(elem, end = ' ')"
   ]
  },
  {
   "cell_type": "markdown",
   "id": "bb09a31e",
   "metadata": {},
   "source": [
    "**#2. Дана символьная строка. Подсчитать количество букв k в последнем ее слове.**"
   ]
  },
  {
   "cell_type": "code",
   "execution_count": 4,
   "id": "768bebc6",
   "metadata": {},
   "outputs": [
    {
     "name": "stdout",
     "output_type": "stream",
     "text": [
      "3\n"
     ]
    }
   ],
   "source": [
    "string = \"some word to kCheckk  \"\n",
    "string = string.rstrip()\n",
    "count = 0\n",
    "for i in range(len(string) - 1, -1, -1):\n",
    "  if string[i] == 'k':\n",
    "    count += 1\n",
    "  elif string[i] == ' ':\n",
    "    break\n",
    "print(count)"
   ]
  },
  {
   "cell_type": "markdown",
   "id": "61b66003",
   "metadata": {},
   "source": [
    "**#3. Результаты вступительных экзаменов представлены в виде списка из N строк, в каждой строке которого записаны фамилия студента и отметки по каждому из М экзаменов. Определить количество абитуриентов, сдавших вступительные экзамены на «отлично».**"
   ]
  },
  {
   "cell_type": "code",
   "execution_count": 5,
   "id": "54e4a98a",
   "metadata": {},
   "outputs": [
    {
     "name": "stdout",
     "output_type": "stream",
     "text": [
      "Количество отличников =  2\n"
     ]
    }
   ],
   "source": [
    "grades = [\n",
    "    \"Petrov 5 2 3 4 5 3\",\n",
    "    \"Ivanov 4 4 4 5 4 5\",\n",
    "    \"Sidorov 5 5 5 5 5 5\",\n",
    "    \"Someone 3 5 4 4 3 5\",\n",
    "    \"Chetin 5 5 5 5 5 5\"\n",
    "]\n",
    "count = 0\n",
    "for person in grades:\n",
    "  flag = True\n",
    "  for elem in person:\n",
    "    if elem.isdigit() and int(elem) != 5:\n",
    "      flag = False\n",
    "  if flag:\n",
    "    count += 1\n",
    "print(\"Количество отличников = \", count)"
   ]
  },
  {
   "cell_type": "markdown",
   "id": "2a773cb6",
   "metadata": {},
   "source": [
    "## Темы 12-13 Работа с файлами"
   ]
  },
  {
   "cell_type": "markdown",
   "id": "31954c65",
   "metadata": {},
   "source": [
    "**#1 Заполнить файл f целыми числами, полученными с помощью генератора случайных чисел. Найти количество удвоенных нечетных чисел среди компонент файла.**"
   ]
  },
  {
   "cell_type": "code",
   "execution_count": 57,
   "id": "f05bb236",
   "metadata": {},
   "outputs": [
    {
     "name": "stdout",
     "output_type": "stream",
     "text": [
      "Случайные числа, записанные в файл:\n",
      "38 30 62 11 32 68 10 37 20 54 \n",
      "Количество удвоенных нечетных чисел =  5\n"
     ]
    }
   ],
   "source": [
    "from random import randint\n",
    "with open(\"Task 4 files/f.txt\", \"w\") as file:\n",
    "    for i in range(10):\n",
    "        file.write(str(randint(0, 100)) + ' ')\n",
    "\n",
    "count = 0\n",
    "print(\"Случайные числа, записанные в файл:\")\n",
    "with open(\"Task 4 files/f.txt\", \"r\") as file:\n",
    "    digits = list(file.read().rstrip().split(' '))\n",
    "    for digit in digits:\n",
    "        print(digit, end = ' ')\n",
    "        if int(digit) % 2 == 0 and (int(digit) // 2) % 2 != 0:\n",
    "            count += 1\n",
    "print()\n",
    "print(\"Количество удвоенных нечетных чисел = \", count)\n"
   ]
  },
  {
   "cell_type": "markdown",
   "id": "dbf58c58",
   "metadata": {},
   "source": [
    "**#2 Дан файл Tovar, содержащий сведения об экспортируемых товарах: указывается наименование товара, страна, импортирующая товар, и объем поставляемой партии в штуках. Составить список стран, в которые экспортируется данный товар, и общий объем его экспорта.**"
   ]
  },
  {
   "cell_type": "code",
   "execution_count": 66,
   "id": "b9f09539",
   "metadata": {},
   "outputs": [
    {
     "name": "stdout",
     "output_type": "stream",
     "text": [
      "Товар:  Phone\n",
      "Страны:  ['USA', 'Canada', 'Mexico']\n",
      "Общий объем экспорта:  2400\n"
     ]
    }
   ],
   "source": [
    "product = input(\"Наименование товара->\")\n",
    "countries = []\n",
    "total = 0\n",
    "with open(\"Task 4 files/Tovar.txt\", \"r\") as file:\n",
    "    line = file.readline()\n",
    "    while line:\n",
    "        info = line.strip().split(\",\")\n",
    "        if info[0] == product:\n",
    "            countries.append(info[1])\n",
    "            total += int(info[2])\n",
    "        line = file.readline()\n",
    "print(\"Товар: \", product)\n",
    "print(\"Страны: \", countries)\n",
    "print(\"Общий объем экспорта: \", total)"
   ]
  },
  {
   "cell_type": "markdown",
   "id": "90fe6d21",
   "metadata": {},
   "source": [
    "**#3 Дан файл, содержащий текст на русском языке и некоторые два слова. Определить, сколько раз они входят в текст и сколько раз они входят непосредственно друг за другом.** "
   ]
  },
  {
   "cell_type": "code",
   "execution_count": 25,
   "id": "10dac4bd",
   "metadata": {},
   "outputs": [
    {
     "name": "stdout",
     "output_type": "stream",
     "text": [
      "Слов 'париж' в файле: 3\n",
      "Слов 'это' в файле: 3\n",
      "Входят друг за другом: 2\n"
     ]
    }
   ],
   "source": [
    "import re\n",
    "\n",
    "word1 = input(\"Первое слово->\")\n",
    "word2 = input(\"Второе слово->\")\n",
    "count1, count2, count3 = 0, 0, 0\n",
    "with open(\"Task 4 files/text.txt\", \"r\", encoding='utf-8') as file:\n",
    "    string = re.sub(r'[^\\w\\s]', '', file.read())\n",
    "    words = string.strip().lower().split()\n",
    "    \n",
    "    for word in words:\n",
    "        if word == word1:\n",
    "            count1 += 1\n",
    "            if prev_word == word2:\n",
    "                count3 += 1\n",
    "        if word == word2:\n",
    "            count2 += 1\n",
    "            if prev_word == word1:\n",
    "                count3 += 1\n",
    "        prev_word = word\n",
    "print(f\"Слов '{word1}' в файле: {count1}\")\n",
    "print(f\"Слов '{word2}' в файле: {count2}\")\n",
    "print(f\"Входят друг за другом: {count3}\")"
   ]
  }
 ],
 "metadata": {
  "kernelspec": {
   "display_name": "Python 3",
   "language": "python",
   "name": "python3"
  },
  "language_info": {
   "codemirror_mode": {
    "name": "ipython",
    "version": 3
   },
   "file_extension": ".py",
   "mimetype": "text/x-python",
   "name": "python",
   "nbconvert_exporter": "python",
   "pygments_lexer": "ipython3",
   "version": "3.11.9"
  }
 },
 "nbformat": 4,
 "nbformat_minor": 5
}
